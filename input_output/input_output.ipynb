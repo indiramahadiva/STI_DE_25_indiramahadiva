{
 "cells": [
  {
   "cell_type": "markdown",
   "id": "7ac1323a",
   "metadata": {},
   "source": [
    "# Input and Outputs"
   ]
  },
  {
   "cell_type": "code",
   "execution_count": 1,
   "id": "e8f2b77f",
   "metadata": {},
   "outputs": [
    {
     "name": "stdout",
     "output_type": "stream",
     "text": [
      "Hello World\n"
     ]
    }
   ],
   "source": [
    "print(\"Hello World\")"
   ]
  },
  {
   "cell_type": "code",
   "execution_count": 2,
   "id": "62531bef",
   "metadata": {},
   "outputs": [
    {
     "name": "stdout",
     "output_type": "stream",
     "text": [
      "My name is Indira\n"
     ]
    }
   ],
   "source": [
    "print(\"My name is Indira\")"
   ]
  },
  {
   "cell_type": "code",
   "execution_count": 3,
   "id": "64abd1c2",
   "metadata": {},
   "outputs": [
    {
     "name": "stdout",
     "output_type": "stream",
     "text": [
      "Hello Indira\n"
     ]
    }
   ],
   "source": [
    "name = \"Indira\"\n",
    "print(f\"Hello \" + name)"
   ]
  },
  {
   "cell_type": "markdown",
   "id": "70595cc4",
   "metadata": {},
   "source": [
    "# Inputs"
   ]
  },
  {
   "cell_type": "code",
   "execution_count": 4,
   "id": "6d410512",
   "metadata": {},
   "outputs": [
    {
     "name": "stdout",
     "output_type": "stream",
     "text": [
      "Indira is 26 years old\n"
     ]
    }
   ],
   "source": [
    "name = input(\"What is your name ?\")\n",
    "age = input(\"What is your age ?\")\n",
    "\n",
    "print(f\"{name} is {age} years old\")"
   ]
  },
  {
   "cell_type": "markdown",
   "id": "da69382e",
   "metadata": {},
   "source": [
    "# Type Coercion"
   ]
  },
  {
   "cell_type": "code",
   "execution_count": 5,
   "id": "ea0edfc3",
   "metadata": {},
   "outputs": [
    {
     "name": "stdout",
     "output_type": "stream",
     "text": [
      "force = 54.0N\n"
     ]
    }
   ],
   "source": [
    "gravity = 9.82\n",
    "mass = float(input(\"Enter your weight in kg: \"))\n",
    "\n",
    "force = mass * gravity\n",
    "print(f\"{force = :.1f}N\")"
   ]
  },
  {
   "cell_type": "markdown",
   "id": "5f30d76a",
   "metadata": {},
   "source": [
    "# Some More Types"
   ]
  },
  {
   "cell_type": "code",
   "execution_count": 1,
   "id": "7e9b7687",
   "metadata": {},
   "outputs": [
    {
     "data": {
      "text/plain": [
       "(int, str, bool, float)"
      ]
     },
     "execution_count": 1,
     "metadata": {},
     "output_type": "execute_result"
    }
   ],
   "source": [
    "radius = 7\n",
    "geometry = \"circle\"\n",
    "is_unit_circle = False\n",
    "screen_inches = 6.4\n",
    "\n",
    "type(radius), type(geometry), type(is_unit_circle), type(screen_inches)"
   ]
  }
 ],
 "metadata": {
  "kernelspec": {
   "display_name": "STI_DataEngineer25",
   "language": "python",
   "name": "python3"
  },
  "language_info": {
   "codemirror_mode": {
    "name": "ipython",
    "version": 3
   },
   "file_extension": ".py",
   "mimetype": "text/x-python",
   "name": "python",
   "nbconvert_exporter": "python",
   "pygments_lexer": "ipython3",
   "version": "3.12.8"
  }
 },
 "nbformat": 4,
 "nbformat_minor": 5
}
