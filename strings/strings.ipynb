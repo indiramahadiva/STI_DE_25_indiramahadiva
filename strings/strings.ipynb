{
 "cells": [
  {
   "cell_type": "markdown",
   "id": "fba16555",
   "metadata": {},
   "source": [
    "# Strings"
   ]
  },
  {
   "cell_type": "code",
   "execution_count": null,
   "id": "cbd5fceb",
   "metadata": {},
   "outputs": [
    {
     "data": {
      "text/plain": [
       "'Indira Mahadiva'"
      ]
     },
     "execution_count": 3,
     "metadata": {},
     "output_type": "execute_result"
    }
   ],
   "source": [
    "# Concatenate multiple strings with + operator\n",
    "# remember + operator has another meaning when it comes to numeric variables\n",
    "firstname = \"Indira\"\n",
    "lastname = \"Mahadiva\"\n",
    "\n",
    "fullname = firstname + \" \" + lastname\n",
    "fullname"
   ]
  },
  {
   "cell_type": "code",
   "execution_count": null,
   "id": "cfe98cd4",
   "metadata": {},
   "outputs": [
    {
     "name": "stdout",
     "output_type": "stream",
     "text": [
      "\n",
      "name: Indira Mahadiva\n",
      "work: Structura Restaurant AB\n",
      "address: Rågstigen 11\n",
      "phone: 112\n",
      "\n"
     ]
    }
   ],
   "source": [
    "#f-string with multiline\n",
    "firstname = \"Indira\"\n",
    "lastname = \"Mahadiva\"\n",
    "fullname = firstname + \" \" + lastname\n",
    "work = \"Structura Restaurant AB\"\n",
    "address = \"Rågstigen 11\"\n",
    "phone = \"112\"\n",
    "\n",
    "contact_details = f\"\"\"\n",
    "name: {fullname}\n",
    "work: {work}\n",
    "address: {address}\n",
    "phone: {phone}\n",
    "\"\"\"\n",
    "\n",
    "print(contact_details)"
   ]
  },
  {
   "cell_type": "code",
   "execution_count": null,
   "id": "1d4f64cd",
   "metadata": {},
   "outputs": [
    {
     "name": "stdout",
     "output_type": "stream",
     "text": [
      "        Weekly menumo         chili con carne\n",
      "tu         pancakes\n",
      "wed        noodles\n",
      "thu        pokebowl\n",
      "fri        taco\n",
      "\n"
     ]
    }
   ],
   "source": [
    "# concatenate with lopp\n",
    "menu = [\"chili con carne\",\"pancakes\", \"noodles\", \"pokebowl\", \"taco\"]\n",
    "days = [\"mo\", \"tu\", \"wed\", \"thu\", \"fri\"]\n",
    "\n",
    "weekly_menu = \"Weekly menu\\n\"\n",
    "\n",
    "for day, food in zip(days, menu):\n",
    "    weekly_menu += f\"{day:<10} {food}\\n\"\n",
    "\n",
    "print(f\"        {weekly_menu}\")"
   ]
  },
  {
   "cell_type": "code",
   "execution_count": 6,
   "id": "65bbf75a",
   "metadata": {},
   "outputs": [
    {
     "data": {
      "text/plain": [
       "\"!False - it's funny because it's True\""
      ]
     },
     "execution_count": 6,
     "metadata": {},
     "output_type": "execute_result"
    }
   ],
   "source": [
    "quote = \"!False - it's funny because it's True\"\n",
    "quote"
   ]
  },
  {
   "cell_type": "code",
   "execution_count": 7,
   "id": "ffe7d078",
   "metadata": {},
   "outputs": [
    {
     "data": {
      "text/plain": [
       "'!'"
      ]
     },
     "execution_count": 7,
     "metadata": {},
     "output_type": "execute_result"
    }
   ],
   "source": [
    "quote[0]"
   ]
  },
  {
   "cell_type": "code",
   "execution_count": 8,
   "id": "bae06f4d",
   "metadata": {},
   "outputs": [
    {
     "data": {
      "text/plain": [
       "'e'"
      ]
     },
     "execution_count": 8,
     "metadata": {},
     "output_type": "execute_result"
    }
   ],
   "source": [
    "quote[-1]"
   ]
  },
  {
   "cell_type": "code",
   "execution_count": 10,
   "id": "c76d1204",
   "metadata": {},
   "outputs": [
    {
     "data": {
      "text/plain": [
       "'!False'"
      ]
     },
     "execution_count": 10,
     "metadata": {},
     "output_type": "execute_result"
    }
   ],
   "source": [
    "quote[:6]"
   ]
  },
  {
   "cell_type": "code",
   "execution_count": null,
   "id": "9d7ac748",
   "metadata": {},
   "outputs": [
    {
     "data": {
      "text/plain": [
       "False"
      ]
     },
     "execution_count": 11,
     "metadata": {},
     "output_type": "execute_result"
    }
   ],
   "source": [
    "string_to_check = \"anna\"\n",
    "string_to_check[::-1] == string_to_check"
   ]
  },
  {
   "cell_type": "markdown",
   "id": "6b54afa5",
   "metadata": {},
   "source": [
    "## split and cleaning a string"
   ]
  },
  {
   "cell_type": "code",
   "execution_count": 12,
   "id": "f4b52744",
   "metadata": {},
   "outputs": [
    {
     "data": {
      "text/plain": [
       "'Math, biology,   cHemistry  ,   PrOgramming     '"
      ]
     },
     "execution_count": 12,
     "metadata": {},
     "output_type": "execute_result"
    }
   ],
   "source": [
    "subjects = \"Math, biology,   cHemistry  ,   PrOgramming     \"\n",
    "subjects"
   ]
  },
  {
   "cell_type": "code",
   "execution_count": 13,
   "id": "ee071436",
   "metadata": {},
   "outputs": [
    {
     "data": {
      "text/plain": [
       "['Math', ' biology', '   cHemistry  ', '   PrOgramming     ']"
      ]
     },
     "execution_count": 13,
     "metadata": {},
     "output_type": "execute_result"
    }
   ],
   "source": [
    "subjects = subjects.split(\",\")\n",
    "subjects"
   ]
  },
  {
   "cell_type": "code",
   "execution_count": null,
   "id": "c83702e8",
   "metadata": {},
   "outputs": [
    {
     "name": "stdout",
     "output_type": "stream",
     "text": [
      "MATH has 4 characters\n",
      "BIOLOGY has 7 characters\n",
      "CHEMISTRY has 9 characters\n",
      "PROGRAMMING has 11 characters\n"
     ]
    }
   ],
   "source": [
    "# strip off leading and trailing space\n",
    "# check out also rstrip() and lstrip()\n",
    "subjects = [subject.strip().upper() for subject in subjects]\n",
    "for subject in subjects:\n",
    "    print(f\"{subject} has {len(subject)} characters\")"
   ]
  },
  {
   "cell_type": "markdown",
   "id": "b1f9ec29",
   "metadata": {},
   "source": [
    "## regular expressions"
   ]
  },
  {
   "cell_type": "code",
   "execution_count": 17,
   "id": "f25055b7",
   "metadata": {},
   "outputs": [
    {
     "data": {
      "text/plain": [
       "['katt', 'hatt']"
      ]
     },
     "execution_count": 17,
     "metadata": {},
     "output_type": "execute_result"
    }
   ],
   "source": [
    "import re\n",
    "\n",
    "text = \"Det var en gång en katt som tog på sig en hatt\"\n",
    "match_list = re.findall(r\".att\", text)\n",
    "match_list"
   ]
  },
  {
   "cell_type": "code",
   "execution_count": 18,
   "id": "ee2da38e",
   "metadata": {},
   "outputs": [
    {
     "data": {
      "text/plain": [
       "['19950516-2235', '19581212-3213']"
      ]
     },
     "execution_count": 18,
     "metadata": {},
     "output_type": "execute_result"
    }
   ],
   "source": [
    "personal_numbers = \"Ida: 19950516-2235, Berit: 19581212-3213, Ada: 050524-1513\"\n",
    "match_long = re.findall(r\"\\d{8}-\\d{4}\", personal_numbers)\n",
    "match_long"
   ]
  },
  {
   "cell_type": "code",
   "execution_count": 20,
   "id": "0178df5b",
   "metadata": {},
   "outputs": [
    {
     "data": {
      "text/plain": [
       "['950516-2235', '581212-3213', '050524-1513']"
      ]
     },
     "execution_count": 20,
     "metadata": {},
     "output_type": "execute_result"
    }
   ],
   "source": [
    "match_short = re.findall(r\"\\d{6}-\\d{4}\", personal_numbers)\n",
    "match_short"
   ]
  }
 ],
 "metadata": {
  "kernelspec": {
   "display_name": "STI_DataEngineer25",
   "language": "python",
   "name": "python3"
  },
  "language_info": {
   "codemirror_mode": {
    "name": "ipython",
    "version": 3
   },
   "file_extension": ".py",
   "mimetype": "text/x-python",
   "name": "python",
   "nbconvert_exporter": "python",
   "pygments_lexer": "ipython3",
   "version": "3.12.8"
  }
 },
 "nbformat": 4,
 "nbformat_minor": 5
}
