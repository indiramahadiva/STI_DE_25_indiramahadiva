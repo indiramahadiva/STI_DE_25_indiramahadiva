{
 "cells": [
  {
   "cell_type": "markdown",
   "id": "d7417afd",
   "metadata": {},
   "source": [
    "Manual Testing of Vector class"
   ]
  },
  {
   "cell_type": "code",
   "execution_count": 17,
   "id": "c8081963",
   "metadata": {},
   "outputs": [
    {
     "data": {
      "text/plain": [
       "Vector(2.0, 5.0)"
      ]
     },
     "execution_count": 17,
     "metadata": {},
     "output_type": "execute_result"
    }
   ],
   "source": [
    "from vector import Vector\n",
    "\n",
    "# vecotr with 2 and 5\n",
    "v1= Vector(2,5)\n",
    "v2 = Vector(-1,1)\n",
    "v1\n",
    "\n"
   ]
  },
  {
   "cell_type": "markdown",
   "id": "563b8352",
   "metadata": {},
   "source": [
    "## a few tests that we expect will work"
   ]
  },
  {
   "cell_type": "code",
   "execution_count": 18,
   "id": "2a3b66b4",
   "metadata": {},
   "outputs": [
    {
     "name": "stdout",
     "output_type": "stream",
     "text": [
      "len(v1)= 2\n",
      "v1.numbers= (2.0, 5.0)\n",
      "v1 + v2= Vector(1.0, 6.0)\n"
     ]
    }
   ],
   "source": [
    "len(v1)\n",
    "print(f\"{len(v1)= }\")\n",
    "print(f\"{v1.numbers= }\")\n",
    "print(f\"{v1 + v2= }\")"
   ]
  },
  {
   "cell_type": "markdown",
   "id": "c11f34aa",
   "metadata": {},
   "source": [
    "## Testing correct errors"
   ]
  },
  {
   "cell_type": "markdown",
   "id": "45d4c830",
   "metadata": {},
   "source": []
  },
  {
   "cell_type": "code",
   "execution_count": 19,
   "id": "084f157a",
   "metadata": {},
   "outputs": [
    {
     "name": "stdout",
     "output_type": "stream",
     "text": [
      "Both must be Vector and have the same length\n"
     ]
    }
   ],
   "source": [
    "v1 = Vector(1,2)\n",
    "v2 = Vector(1,2,3)\n",
    "\n",
    "try:\n",
    "    v1 + v2\n",
    "except TypeError as err:\n",
    "    print(err)"
   ]
  },
  {
   "cell_type": "markdown",
   "id": "e7f0d2a3",
   "metadata": {},
   "source": [
    "## Assert will be used in automatical testing"
   ]
  },
  {
   "cell_type": "code",
   "execution_count": 20,
   "id": "38499059",
   "metadata": {},
   "outputs": [],
   "source": [
    "x = 5\n",
    "\n",
    "assert x == 5"
   ]
  },
  {
   "cell_type": "code",
   "execution_count": 21,
   "id": "83338d66",
   "metadata": {},
   "outputs": [
    {
     "ename": "AssertionError",
     "evalue": "",
     "output_type": "error",
     "traceback": [
      "\u001b[31m---------------------------------------------------------------------------\u001b[39m",
      "\u001b[31mAssertionError\u001b[39m                            Traceback (most recent call last)",
      "\u001b[36mCell\u001b[39m\u001b[36m \u001b[39m\u001b[32mIn[21]\u001b[39m\u001b[32m, line 1\u001b[39m\n\u001b[32m----> \u001b[39m\u001b[32m1\u001b[39m \u001b[38;5;28;01massert\u001b[39;00m x == \u001b[32m4\u001b[39m\n",
      "\u001b[31mAssertionError\u001b[39m: "
     ]
    }
   ],
   "source": [
    "assert x == 4"
   ]
  }
 ],
 "metadata": {
  "kernelspec": {
   "display_name": "STI_DataEngineer25",
   "language": "python",
   "name": "python3"
  },
  "language_info": {
   "codemirror_mode": {
    "name": "ipython",
    "version": 3
   },
   "file_extension": ".py",
   "mimetype": "text/x-python",
   "name": "python",
   "nbconvert_exporter": "python",
   "pygments_lexer": "ipython3",
   "version": "3.12.8"
  }
 },
 "nbformat": 4,
 "nbformat_minor": 5
}
