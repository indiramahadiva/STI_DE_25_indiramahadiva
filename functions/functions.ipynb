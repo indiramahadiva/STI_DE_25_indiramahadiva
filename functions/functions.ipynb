{
 "cells": [
  {
   "cell_type": "markdown",
   "id": "bf0a7acd",
   "metadata": {},
   "source": [
    "# Function\n",
    "\n",
    "- for reusable code\n"
   ]
  },
  {
   "cell_type": "code",
   "execution_count": null,
   "id": "b827026d",
   "metadata": {},
   "outputs": [
    {
     "data": {
      "text/plain": [
       "4"
      ]
     },
     "execution_count": 6,
     "metadata": {},
     "output_type": "execute_result"
    }
   ],
   "source": [
    "# create a simple example of function\n",
    "def squarer(x): # use keyword def; squarer is the func name; x is the parameter (placeholder)\n",
    "    return x ** 2 # statement and return block define the output\n",
    "\n",
    "# call for a function\n",
    "squarer(2) # cite the function; () is the callable; argument\n"
   ]
  },
  {
   "cell_type": "code",
   "execution_count": 7,
   "id": "a899a2ae",
   "metadata": {},
   "outputs": [
    {
     "data": {
      "text/plain": [
       "25"
      ]
     },
     "execution_count": 7,
     "metadata": {},
     "output_type": "execute_result"
    }
   ],
   "source": [
    "square = squarer(5)\n",
    "square"
   ]
  },
  {
   "cell_type": "code",
   "execution_count": 8,
   "id": "d19cc09c",
   "metadata": {},
   "outputs": [
    {
     "data": {
      "text/plain": [
       "[0, 1, 4, 9, 16, 25, 36, 49, 64, 81]"
      ]
     },
     "execution_count": 8,
     "metadata": {},
     "output_type": "execute_result"
    }
   ],
   "source": [
    "[squarer(x) for x in range(10)]"
   ]
  },
  {
   "cell_type": "code",
   "execution_count": 10,
   "id": "ca70f49a",
   "metadata": {},
   "outputs": [
    {
     "name": "stdout",
     "output_type": "stream",
     "text": [
      "hi\n"
     ]
    }
   ],
   "source": [
    "def say_hello():\n",
    "    print(\"hi\")\n",
    "\n",
    "say_hello()"
   ]
  },
  {
   "cell_type": "markdown",
   "id": "9acf090e",
   "metadata": {},
   "source": [
    "## Default Value"
   ]
  },
  {
   "cell_type": "code",
   "execution_count": null,
   "id": "587ab67e",
   "metadata": {},
   "outputs": [
    {
     "name": "stdout",
     "output_type": "stream",
     "text": [
      "hi friend\n"
     ]
    }
   ],
   "source": [
    "# Parameters is when you define it : (name = \"friend\")\n",
    "# Argument is what you use when you call the function : say_hello()\n",
    "\n",
    "def say_hello(name = \"friend\"):\n",
    "    print(f\"hi {name}\")\n",
    "\n",
    "say_hello()"
   ]
  },
  {
   "cell_type": "code",
   "execution_count": 13,
   "id": "59c17d29",
   "metadata": {},
   "outputs": [
    {
     "name": "stdout",
     "output_type": "stream",
     "text": [
      "hi Indira\n"
     ]
    }
   ],
   "source": [
    "say_hello(\"Indira\")"
   ]
  },
  {
   "cell_type": "code",
   "execution_count": 16,
   "id": "d537714f",
   "metadata": {},
   "outputs": [
    {
     "data": {
      "text/plain": [
       "(1, -5)"
      ]
     },
     "execution_count": 16,
     "metadata": {},
     "output_type": "execute_result"
    }
   ],
   "source": [
    "def smallest(number1, number2):\n",
    "    if number1 > number2:\n",
    "        return number2\n",
    "    return number1\n",
    "\n",
    "smallest(1,5), smallest (5,-5)"
   ]
  },
  {
   "cell_type": "markdown",
   "id": "c4959d52",
   "metadata": {},
   "source": [
    "## Keyword Argument"
   ]
  },
  {
   "cell_type": "code",
   "execution_count": null,
   "id": "fa640052",
   "metadata": {},
   "outputs": [
    {
     "data": {
      "text/plain": [
       "7"
      ]
     },
     "execution_count": 17,
     "metadata": {},
     "output_type": "execute_result"
    }
   ],
   "source": [
    "def count_words(text):\n",
    "    words = text.split()\n",
    "    return len(words)\n",
    "\n",
    "count_words(text = \"I stand on the shoulders of giants\") # This is a keyword argument"
   ]
  },
  {
   "cell_type": "markdown",
   "id": "927b382c",
   "metadata": {},
   "source": [
    "## Arbitrary arguments"
   ]
  },
  {
   "cell_type": "code",
   "execution_count": null,
   "id": "0c75b091",
   "metadata": {},
   "outputs": [
    {
     "name": "stdout",
     "output_type": "stream",
     "text": [
      "(1, 2, 3)\n"
     ]
    }
   ],
   "source": [
    "# Variable arguments/ arbitary arguments = *args => we can place in as many arguments as we want, which allow a function to accept any number of inputs.\n",
    "#*args notation: The single asterisk (*) tells Python, \"Collect all the positional arguments passed into this function, no matter how many there are, and package them into a single tuple.\"\n",
    "# * has 2 meanings: positional arguments, the nr of arguments will be unknown\n",
    "def my_mean(*numbers): # Defines a function that is ready to accept any number of arguments.\n",
    "    print(numbers)\n",
    "\n",
    "my_mean(1,2,3) \n",
    "# came as tuples"
   ]
  },
  {
   "cell_type": "code",
   "execution_count": null,
   "id": "b3fa9810",
   "metadata": {},
   "outputs": [
    {
     "data": {
      "text/plain": [
       "3.3333333333333335"
      ]
     },
     "execution_count": 23,
     "metadata": {},
     "output_type": "execute_result"
    }
   ],
   "source": [
    "def my_mean(*numbers):\n",
    "    sum_ = 0 # Initializes a variable sum_ to hold the running total of all numbers.\n",
    "    for number in numbers: #This loop iterates through every item in the numbers tuple.\n",
    "        sum_ += number \n",
    "    return sum_/len(numbers) #After the loop finishes, the function calculates and returns the average : 10/3\n",
    "\n",
    "my_mean(1,4,5)"
   ]
  },
  {
   "cell_type": "markdown",
   "id": "29b69510",
   "metadata": {},
   "source": [
    "## Unpacking Arguments"
   ]
  },
  {
   "cell_type": "code",
   "execution_count": 26,
   "id": "3e788957",
   "metadata": {},
   "outputs": [
    {
     "name": "stdout",
     "output_type": "stream",
     "text": [
      "Hi Zelo you are 4 years old\n"
     ]
    }
   ],
   "source": [
    "def say_hello(name, age):\n",
    "    print(f\"Hi {name} you are {age} years old\")\n",
    "\n",
    "pet = (\"Zelo\", 4)\n",
    "\n",
    "say_hello(*pet) # Unpack tupple into its value inside "
   ]
  },
  {
   "cell_type": "markdown",
   "id": "c1b66ac2",
   "metadata": {},
   "source": [
    "## Lambda function inside a function"
   ]
  },
  {
   "cell_type": "code",
   "execution_count": 36,
   "id": "82258d34",
   "metadata": {},
   "outputs": [
    {
     "name": "stdout",
     "output_type": "stream",
     "text": [
      "([2005, 2006, 2007, 2008, 2009, 2010, 2011, 2012, 2013, 2014, 2015, 2016, 2017, 2018, 2019, 2020, 2021, 2022, 2023, 2024], [2587, 2546, 2797, 2817, 2857, 2903, 3160, 3398, 4054, 4937, 5812, 6183, 6210, 5704, 7086, 10283, 12852, 14255, 15162, 16447], [6238, 7582, 8807, 10264, 11286, 11905, 12179, 11946, 12253, 12261, 11670, 11529, 12193, 13797, 15994, 18491, 18540, 17818, 17354, 17380])\n"
     ]
    }
   ],
   "source": [
    "def extract_data(filename):\n",
    "    with open(filename, \"r\") as file:\n",
    "        data = file.readlines()\n",
    "\n",
    "        years, it, economy = data\n",
    "        clean_row = lambda row: [int(year) for year in row.strip().split(\",\")[1:]]\n",
    "        years = clean_row(years)\n",
    "        it = clean_row(it)\n",
    "        economy = clean_row(economy)\n",
    "\n",
    "        return years,it,economy\n",
    "\n",
    "print(extract_data(\"data/students_yh_it_economy.txt\"))\n"
   ]
  },
  {
   "cell_type": "markdown",
   "id": "898bac93",
   "metadata": {},
   "source": [
    "## variable number of keyword arguments **kwargs"
   ]
  },
  {
   "cell_type": "code",
   "execution_count": 38,
   "id": "fb95ca59",
   "metadata": {},
   "outputs": [
    {
     "name": "stdout",
     "output_type": "stream",
     "text": [
      "{'x': 5, 'name': 'Zelo', 'type': 'cat'}\n",
      "cat\n"
     ]
    }
   ],
   "source": [
    "def test_kwargs(**kwargs):\n",
    "    print(kwargs)\n",
    "    print(kwargs.get(\"type\"))\n",
    "\n",
    "test_kwargs(x = 5, name = \"Zelo\", type = \"cat\")"
   ]
  },
  {
   "cell_type": "code",
   "execution_count": 44,
   "id": "cfc90a49",
   "metadata": {},
   "outputs": [
    {
     "data": {
      "text/plain": [
       "<Axes: title={'center': 'Number of students in IT'}, ylabel='Number Students'>"
      ]
     },
     "execution_count": 44,
     "metadata": {},
     "output_type": "execute_result"
    },
    {
     "data": {
      "image/png": "[encoded data removed]",
      "text/plain": [
       "<Figure size 640x480 with 1 Axes>"
      ]
     },
     "metadata": {},
     "output_type": "display_data"
    }
   ],
   "source": [
    "import matplotlib.pyplot as plt\n",
    "from matplotlib.ticker import MaxNLocator\n",
    "\n",
    "years,it,economy = extract_data(\"data/students_yh_it_economy.txt\")\n",
    "fig, ax = plt.subplots(1)\n",
    "\n",
    "def plot_data(ax, x,y, **options):\n",
    "    ax.plot(x,y,linewidth = options.get(\"linewidth\", 3))\n",
    "    ax.set(xlabel = options.get(\"xlabel\"),\n",
    "    ylabel = options.get(\"ylabel\"),\n",
    "    title = options.get(\"title\"),\n",
    "    )\n",
    "\n",
    "    ax.xaxis.set_major_locator(MaxNLocator(integer = True))\n",
    "    ax.spines[[\"top\", \"right\"]].set_visible(False)\n",
    "\n",
    "    return ax\n",
    "\n",
    "plot_data(\n",
    "    ax,\n",
    "    x = years,\n",
    "    y = it,\n",
    "    linewidth = 2,\n",
    "    title =\"Number of students in IT\",\n",
    "    xlable = \"year\",\n",
    "    ylabel = \"Number Students\",\n",
    ") "
   ]
  },
  {
   "cell_type": "code",
   "execution_count": 47,
   "id": "e688c100",
   "metadata": {},
   "outputs": [
    {
     "data": {
      "text/plain": [
       "<Axes: title={'center': 'Number of students in economy'}, ylabel='Number Students'>"
      ]
     },
     "execution_count": 47,
     "metadata": {},
     "output_type": "execute_result"
    },
    {
     "data": {
      "image/png": "[encoded data removed]",
      "text/plain": [
       "<Figure size 640x480 with 1 Axes>"
      ]
     },
     "metadata": {},
     "output_type": "display_data"
    }
   ],
   "source": [
    "fig, ax = plt.subplots(1)\n",
    "plot_data(\n",
    "    ax,\n",
    "    x = years,\n",
    "    y = economy,\n",
    "    linewidth = 4,\n",
    "    title =\"Number of students in economy\",\n",
    "    xlable = \"year\",\n",
    "    ylabel = \"Number Students\",\n",
    ") "
   ]
  }
 ],
 "metadata": {
  "kernelspec": {
   "display_name": "STI_DataEngineer25",
   "language": "python",
   "name": "python3"
  },
  "language_info": {
   "codemirror_mode": {
    "name": "ipython",
    "version": 3
   },
   "file_extension": ".py",
   "mimetype": "text/x-python",
   "name": "python",
   "nbconvert_exporter": "python",
   "pygments_lexer": "ipython3",
   "version": "3.12.8"
  }
 },
 "nbformat": 4,
 "nbformat_minor": 5
}
