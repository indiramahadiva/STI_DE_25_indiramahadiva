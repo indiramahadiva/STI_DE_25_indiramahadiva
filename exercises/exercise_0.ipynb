{
 "cells": [
  {
   "cell_type": "markdown",
   "id": "13a33716",
   "metadata": {},
   "source": [
    "#Theoritical exercises"
   ]
  },
  {
   "cell_type": "markdown",
   "id": "3d1a7e51",
   "metadata": {},
   "source": [
    "a. What is the difference between git and github ?\n",
    "Git is the tool, and GitHub is a service that uses that tool. ou can use Git on your own without GitHub, but you cannot use GitHub without Git.\n",
    "\n",
    "b. What is the purpose of .gitignore file?\n",
    "The purpose of gitignore files is to ensure that certain files not tracked by Git remain untracked.This is useful for keeping log files, temporary files, build artifacts, or personal files out of your repository\n",
    "\n",
    "c. Why is it a good idea to work with git and github?\n",
    "Using Git and GitHub serves as a backup and makes it possible to work on the same project at the same time as collaborators."
   ]
  },
  {
   "cell_type": "markdown",
   "id": "e14871d8",
   "metadata": {},
   "source": [
    "#Glossary"
   ]
  },
  {
   "cell_type": "markdown",
   "id": "71f37dcb",
   "metadata": {
    "vscode": {
     "languageId": "plaintext"
    }
   },
   "source": [
    "\n",
    "Fill in this table either by copying this into your own markdown file or copy it into a spreadsheet if you feel that is easier to work with.\n",
    "\n",
    "|Terminology | Explanation | \n",
    "|---|---|\n",
    "| git | Ett versionskontrollsystem. Den mjukvara du installerar på din dator för att spåra ändringar i filer.\n",
    "| github |  En fjärrplats för att lagra Git-kod. En onlineplattform som gör det möjligt att samarbeta i projekt.\n",
    "| version control | Mjukvara som spårar, organiserar och hanterar olika versioner av filer över tid.\n",
    "| backup | Hjälper till att förhindra förlust av arbete och säkerställer att data alltid är tillgänglig.\n",
    "| gitignore | En fil som talar om för Git vilka filer och mappar som ska ignoreras och inte spåras.\n",
    "| commit | En ögonblicksbild av dina filer vid en specifik tidpunkt. Som att spara en fil.\n",
    "| pull | Hämtar och laddar ner innehåll från ett externt (remote) repository och uppdaterar omedelbart det lokala repositoryt.\n",
    "| clone | Att kopiera ett befintligt (remote) repository till en ny katalog på din lokala dator.\n",
    "| cd | En kommandoradskommando för att byta katalog (mapp) i terminalen.\n",
    "| ls | Ett kommandoradskommando för att lista filer i den aktuella katalogen.\n",
    "| cd .. | Ett kommandoradskommando för att byta till den överordnade katalogen (mappen)."
   ]
  },
  {
   "cell_type": "markdown",
   "id": "df93ab87",
   "metadata": {},
   "source": []
  }
 ],
 "metadata": {
  "language_info": {
   "name": "python"
  }
 },
 "nbformat": 4,
 "nbformat_minor": 5
}
