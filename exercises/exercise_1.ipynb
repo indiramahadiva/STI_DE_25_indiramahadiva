{
 "cells": [
  {
   "cell_type": "markdown",
   "id": "f8cf4ec0",
   "metadata": {},
   "source": [
    "# 0. Pythagorean theorem (*)"
   ]
  },
  {
   "cell_type": "code",
   "execution_count": null,
   "id": "2988f751",
   "metadata": {},
   "outputs": [
    {
     "name": "stdout",
     "output_type": "stream",
     "text": [
      " the hypothenuse of the triangle is 5.0\n"
     ]
    }
   ],
   "source": [
    "# A right angled triangle has the catheti: a = 3 and b = 4 length units. Compute the hypothenuse of the triangle. (*)\n",
    "\n",
    "#import the module\n",
    "import math\n",
    "\n",
    "# Simulate data input by assigning values directly\n",
    "a = 3\n",
    "b = 4\n",
    "\n",
    "# Calculate the hypotenuse using the Pythagorean theorem: c = sqrt(a^2 + b^2), using the function from the module\n",
    "hypotenuse = math.sqrt(a**2 + b**2)\n",
    "\n",
    "# Display the output\n",
    "print(f\" the hypothenuse of the triangle is {hypotenuse}\")\n"
   ]
  },
  {
   "cell_type": "markdown",
   "id": "c3de9ca7",
   "metadata": {},
   "source": [
    "# 1.Classification accuracy"
   ]
  },
  {
   "cell_type": "code",
   "execution_count": null,
   "id": "8b4da493",
   "metadata": {},
   "outputs": [
    {
     "name": "stdout",
     "output_type": "stream",
     "text": [
      "The accuracy of the ML model is : 82.19%\n"
     ]
    }
   ],
   "source": [
    "#A machine learning algorithm has been trained to predict whether or not it would rain the next day. Out of 365 predictions, it got 300 correct, compute the accuracy of this model.\n",
    "\n",
    "# declare the variables\n",
    "correct_prediction = 300\n",
    "number_prediction = 365\n",
    "\n",
    "# Doing the calulation\n",
    "accuracy_model = (correct_prediction/number_prediction) * 100\n",
    "\n",
    "# Display output in a format specifier in Python that formats a floating-point number to display exactly two digits after the decimal point, often used for rounding and cleaner output.\n",
    "print(f\"The accuracy of the ML model is : {accuracy_model:.2f}%\")\n",
    "\n"
   ]
  },
  {
   "cell_type": "markdown",
   "id": "3760bfe8",
   "metadata": {},
   "source": [
    "# Classification accuracy"
   ]
  },
  {
   "cell_type": "code",
   "execution_count": null,
   "id": "29c4fd9a",
   "metadata": {},
   "outputs": [
    {
     "name": "stdout",
     "output_type": "stream",
     "text": [
      "98.7 %\n"
     ]
    }
   ],
   "source": [
    "# declare values come from the model's prediction results\n",
    "true_positive = 2\n",
    "true_negative = 985\n",
    "false_positive = 2\n",
    "false_negative = 11\n",
    "\n",
    "# calculate the overall accuracy\n",
    "accuracy = (true_positive + true_negative)/(true_positive+true_negative+false_positive+false_negative)\n",
    "\n",
    "# print the result\n",
    "print(f\"{accuracy*100} %\")\n",
    "#Trots att den uppnått en noggrannhet på 98,7 % anses denna modell ännu inte vara utmärkt, särskilt inte för branddetektering. Modellen har 11 falskt negativa resultat (FN), vilket innebär att modellen misslyckades med att upptäcka brand 11 gånger när en brand faktiskt fanns. I det här scenariot är det mycket farligare att misslyckas med att upptäcka en brand än att göra en felaktig förutsägelse (falskt positivt). Därför garanterar inte hög noggrannhet en effektiv modell för denna kritiska uppgift#"
   ]
  },
  {
   "cell_type": "markdown",
   "id": "e3291775",
   "metadata": {},
   "source": [
    "# File metadata - format print"
   ]
  },
  {
   "cell_type": "code",
   "execution_count": 18,
   "id": "232d8945",
   "metadata": {},
   "outputs": [
    {
     "name": "stdout",
     "output_type": "stream",
     "text": [
      "=== File metadata ===\n",
      "Filename: sales_data.csv\n",
      "size (MB): 24.7\n",
      "Last Modified Year: 2023\n"
     ]
    }
   ],
   "source": [
    "# Declare variables to store the file's metadata\n",
    "filename = \"sales_data.csv\"\n",
    "file_size = 24.7\n",
    "last_modified_year = 2023\n",
    "\n",
    "# Print a header for the output\n",
    "print(\"=== File metadata ===\")\n",
    "\n",
    "# Use f-strings to display the metadata\n",
    "print(f\"Filename: {filename}\")\n",
    "print(f\"size (MB): {file_size}\")\n",
    "print(f\"Last Modified Year: {last_modified_year}\")"
   ]
  },
  {
   "cell_type": "markdown",
   "id": "cccd42aa",
   "metadata": {},
   "source": [
    "# 4. Unit converter - inch to cm "
   ]
  },
  {
   "cell_type": "markdown",
   "id": "b033b7b3",
   "metadata": {},
   "source": []
  },
  {
   "cell_type": "code",
   "execution_count": null,
   "id": "02e01ea4",
   "metadata": {},
   "outputs": [
    {
     "name": "stdout",
     "output_type": "stream",
     "text": [
      "5.0 inches is equal to 12.7cm\n"
     ]
    }
   ],
   "source": [
    "# promt the user to enter a value in inches and convert the input to float number\n",
    "screen_size = float(input(\"What is the size in inches?\"))\n",
    "\n",
    "#c onversion from inches to cm\n",
    "inches = 2.54\n",
    "\n",
    "#calculate the length in cm\n",
    "cm = screen_size * inches\n",
    "\n",
    "# print the final result\n",
    "print(f\"{screen_size} inches is equal to {cm}cm\")\n"
   ]
  },
  {
   "cell_type": "markdown",
   "id": "da5640b9",
   "metadata": {},
   "source": [
    "# Theory"
   ]
  },
  {
   "cell_type": "markdown",
   "id": "66c5dfaf",
   "metadata": {},
   "source": [
    "a. What is the difference between input() and print() in Python?\n",
    "Both print and input are built in functions. The print() function displays a message on the screen, while the input() function prompts the user to enter data and stores it for later use.\n",
    "Here's a simple way to think of it:\n",
    "-print() is for showing something to the user.\n",
    "-input() is for getting something from the user.\n",
    "\n",
    "b. What data type does the input() function return by default? How can you use it to get numeric input?\n",
    "By default, the input() function in Python always returns a string (str) data type. This is true even if the user enters a number. You can wrap the input() function within either int() for whole numbers or float() for decimal numbers.\n",
    "age = int(input(\"Enter your age: \"))\n",
    "print(age + 5)\n",
    "\n",
    "price = float(input(\"Enter the price: \"))\n",
    "print(price * 10)\n",
    "\n",
    "c. Explain how formatted string literals (f-strings) improve readability in output statements. Give an example.\n",
    "f-strings improve readability in output statements because  the output string is defined in a single, clear line, showing exactly where each piece of data will be placed. Ex : \n",
    "Without f-string :\n",
    "name = \"Indira\"\n",
    "age = 27\n",
    "print(\"Hello, \" + name + \"! You are \" + str(age) + \" years old.\")\n",
    "\n",
    "with f-string :\n",
    "name = \"Indira\"\n",
    "age = 27\n",
    "print(f\"Hello, {name}! You are {age} years old.\")\n",
    "\n",
    "d. Can a variable change its data type during runtime in Python? Show an example.\n",
    "Yes, a variable's data type can change during runtime in Python. Because Python is a dynamically typed language, a variable's type is determined by the value it currently holds. You can reassign a variable to a new value of a different type at any time. Ex :\n",
    "my_variable = 10        \n",
    "print(type(my_variable)) \n",
    "\n",
    "my_variable = \"Hello\"   \n",
    "print(type(my_variable))\n",
    "\n",
    "e. What does it mean that Python is \"dynamically typed\"? How is that different from statically typed languages?\n",
    "Statically typed programming languages do type checking at compile-time.\n",
    "Examples: Java, C, C++.\n",
    "\n",
    "Dynamically typed programming languages do type checking at run-time.\n",
    "Examples: Perl, Ruby, Python, PHP, JavaScript.\n"
   ]
  },
  {
   "cell_type": "markdown",
   "id": "66b80762",
   "metadata": {},
   "source": [
    "# Glossary\n"
   ]
  },
  {
   "cell_type": "markdown",
   "id": "26af2778",
   "metadata": {},
   "source": []
  },
  {
   "cell_type": "markdown",
   "id": "a284c35e",
   "metadata": {},
   "source": [
    "Fill in this table either by copying this into your own markdown file or copy it into a spreadsheet if you feel that is easier to work with.\n",
    "\n",
    "| terminology       | explanation |\n",
    "| ----------------- | ----------- |\n",
    "| data type         | A data type is the type of data a variable has |\n",
    "| variable          | containers for storing data values. |\n",
    "| assignment        | the operator that is used to assign values to variables in Python |\n",
    "| dynamically typed | do type checking at run-time. |\n",
    "| input             | The input() function in Python is used to take input from the user |\n",
    "| output            | allow programs to display results, communicate with users, or interact with other systems |\n",
    "| type casting      | a method used to change the data type of a variable to match the operation you want to perform. |\n",
    "| boolean           | A data type with only two values: True or False, used for logic and conditions. |\n",
    "| string            | A sequence of characters (text data) enclosed in quotes. |\n",
    "| f-string          | A Python method for embedding expressions and variables directly inside a string literal. |\n",
    "| indentation       | The use of whitespace (usually 4 spaces) to define blocks of code |\n",
    "| convention        | the set of community-adopted style guidelines designed to ensure that code is readable, consistent, and maintainable.|"
   ]
  }
 ],
 "metadata": {
  "kernelspec": {
   "display_name": "STI_DataEngineer25",
   "language": "python",
   "name": "python3"
  },
  "language_info": {
   "codemirror_mode": {
    "name": "ipython",
    "version": 3
   },
   "file_extension": ".py",
   "mimetype": "text/x-python",
   "name": "python",
   "nbconvert_exporter": "python",
   "pygments_lexer": "ipython3",
   "version": "3.12.8"
  }
 },
 "nbformat": 4,
 "nbformat_minor": 5
}
