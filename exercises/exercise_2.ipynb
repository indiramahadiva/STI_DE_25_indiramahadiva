{
 "cells": [
  {
   "cell_type": "markdown",
   "id": "99c3559a",
   "metadata": {},
   "source": [
    "# Exercise 2 - control structures"
   ]
  },
  {
   "cell_type": "markdown",
   "id": "110423f0",
   "metadata": {},
   "source": [
    "## 0. Check sign"
   ]
  },
  {
   "cell_type": "code",
   "execution_count": null,
   "id": "174fcc5b",
   "metadata": {},
   "outputs": [
    {
     "name": "stdout",
     "output_type": "stream",
     "text": [
      "this is zero\n"
     ]
    }
   ],
   "source": [
    "# Ask the user to input a number and check if this number is positive, negative or zero and print it out.\n",
    "\n",
    "# Prompt the user to enter a number\n",
    "number = int(input(\"Enter number : \"))\n",
    "\n",
    "# Compare the numbers and and check if this number is positive, negative or zero and print it out.\n",
    "if number > 0:\n",
    "    print(\" This is positive number\")\n",
    "elif number < 0:\n",
    "    print(\" This is negative number \") \n",
    "else:\n",
    "    print(\"this is zero\")"
   ]
  },
  {
   "cell_type": "markdown",
   "id": "a4874298",
   "metadata": {},
   "source": [
    "## 1. Smallest "
   ]
  },
  {
   "cell_type": "code",
   "execution_count": 7,
   "id": "e069f1ce",
   "metadata": {},
   "outputs": [
    {
     "name": "stdout",
     "output_type": "stream",
     "text": [
      "The smallest number is 6.0\n"
     ]
    }
   ],
   "source": [
    "# Ask the user to input two numbers and check which one is the smallest and print it out.\n",
    "\n",
    "# Prompt the user to enter a number\n",
    "num1 = float(input(\"Enter the first number :\"))\n",
    "num2 = float(input(\"Enter the first number :\"))\n",
    "\n",
    "# Checking the numbers and print the smallest number\n",
    "if num1 < num2:\n",
    "    print(f\"The smallest number is {num1}\")\n",
    "elif num2 < num1:\n",
    "    print(f\"The smallest number is {num2}\")\n",
    "else : \n",
    "    print(f\"Both numbers are equal {num1}\")"
   ]
  },
  {
   "cell_type": "markdown",
   "id": "8c0724a3",
   "metadata": {},
   "source": [
    "## 2. Medicine "
   ]
  },
  {
   "cell_type": "code",
   "execution_count": null,
   "id": "426b085a",
   "metadata": {},
   "outputs": [
    {
     "name": "stdout",
     "output_type": "stream",
     "text": [
      "For a person who is 13 years old and weighs 45.0kg, the recommended dosage is: 1-2 pills\n"
     ]
    }
   ],
   "source": [
    "# Get the patient's weight and age from user input\n",
    "weight_kg = float(input(\"Enter the patient's weight in kg: \"))\n",
    "age = int(input(\"Enter the patient's age : \"))\n",
    "\n",
    "# Determine the dosage based on the conditions from the table\n",
    "if age > 12 and weight_kg > 40:\n",
    "    dosage = \"1-2 pills\"\n",
    "elif 26 <= weight_kg <= 40:\n",
    "    dosage = \"1/2-1 pill\"\n",
    "elif 15 <= weight_kg <= 25:\n",
    "    dosage = \"1/2 pill\"\n",
    "else:\n",
    "    dosage = \"Consult a doctor for dosage information.\"\n",
    "\n",
    "# Print the result\n",
    "print(f\"For a person who is {age} years old and weighs {weight_kg}kg, the recommended dosage is: {dosage}\")"
   ]
  },
  {
   "cell_type": "markdown",
   "id": "589d41a5",
   "metadata": {},
   "source": [
    "## Divisible"
   ]
  },
  {
   "cell_type": "code",
   "execution_count": null,
   "id": "46e15b97",
   "metadata": {},
   "outputs": [
    {
     "name": "stdout",
     "output_type": "stream",
     "text": [
      "5 is an odd number \n",
      "5 is divisible by 5\n",
      "5 is divisible by 5 and 5 is an odd number\n"
     ]
    }
   ],
   "source": [
    "\"\"\"Let the user input a number. Check if the number is\n",
    "\n",
    "a. even or odd\n",
    "b. is divisible by 5\n",
    "c. is divisble by 5 and odd \"\"\"\n",
    "\n",
    "# get user input\n",
    "number = int(input(\"Enter a number: \" ))\n",
    "\n",
    "# check if the number is even or odd\n",
    "if number % 2 == 0:\n",
    "    print(f\"{number} is an even number \")\n",
    "else:\n",
    "    print(f\"{number} is an odd number \")\n",
    "\n",
    "# Check if number is divisible by 5\n",
    "if number % 5 == 0:\n",
    "    print(f\"{number} is divisible by 5\")\n",
    "else:\n",
    "    print(f\"{number} is not divisible by 5\")\n",
    "\n",
    "# Check if the number is divisible by 5 and odd\n",
    "if number % 5 == 0 and number % 2 != 0:\n",
    "    print(f\"{number} is divisible by 5 and {number} is an odd number\")"
   ]
  },
  {
   "cell_type": "markdown",
   "id": "9a73a91e",
   "metadata": {},
   "source": [
    "## 4. Luggage size"
   ]
  },
  {
   "cell_type": "code",
   "execution_count": null,
   "id": "9c585a6b",
   "metadata": {},
   "outputs": [
    {
     "name": "stdout",
     "output_type": "stream",
     "text": [
      "the lugage is allowed\n"
     ]
    }
   ],
   "source": [
    "\"\"\" The maximum allowed luggage size for boarding an airplane is:\n",
    "\n",
    "weight: 8kg\n",
    "dimensions: 55x40x23cm (length x width x height)\n",
    "Let the user input weight, length, width and height of the luggage. The program should check if the luggage is allowed or not. \"\"\"\n",
    "\n",
    "weight_max = 8\n",
    "length_max = 55\n",
    "width_max = 40\n",
    "height_max = 23\n",
    "\n",
    "weight = int(input(\"Enter the weight of the luggage : \"))\n",
    "length = int(input(\"Enter the length of the luggage : \"))\n",
    "widht = int(input(\"Enter the width of the luggage : \"))\n",
    "height = int(input(\"Enter the height of the luggage : \"))\n",
    "\n",
    "if length <= length_max and widht <= width_max and height <= height_max and weight <= weight_max:\n",
    "    print(\"the lugage is allowed\")\n",
    "else:\n",
    "    print(\"The lugage is not allowed\")"
   ]
  },
  {
   "cell_type": "markdown",
   "id": "5cd5871a",
   "metadata": {},
   "source": [
    "## 5. Count numbers"
   ]
  },
  {
   "cell_type": "code",
   "execution_count": null,
   "id": "0de35410",
   "metadata": {},
   "outputs": [],
   "source": [
    "\"\"\"Use a for statement to count from:\n",
    "\n",
    "a.  -10 to 10 with one increment (*)\n",
    "\n",
    "b.   -10 to 10 with two increment (*) \"\"\"\n",
    "\n",
    "# -10 to 10 with one increment for loop\n",
    "for i in range(-10,11,1):\n",
    "    print (i)\n",
    "\n",
    "# -10 to 10 with two increment\n",
    "for n in range(-10, 11, 2):\n",
    "    print(n)"
   ]
  },
  {
   "cell_type": "markdown",
   "id": "68ea3266",
   "metadata": {},
   "source": [
    "# 5. Arithmetic sum"
   ]
  },
  {
   "cell_type": "code",
   "execution_count": 23,
   "id": "d4ed8bb6",
   "metadata": {},
   "outputs": [
    {
     "name": "stdout",
     "output_type": "stream",
     "text": [
      "5050\n",
      "2500\n",
      "5050\n",
      "2500\n"
     ]
    }
   ],
   "source": [
    "# Using while statement to sum from 1 to 100 \n",
    "sum = 0\n",
    "count = 1\n",
    "while count <= 100:\n",
    "    sum += count\n",
    "    count += 1\n",
    "\n",
    "print(sum)\n",
    "\n",
    "# Using while statement to sum of odd numbers from 1 to 99\n",
    "sum = 0\n",
    "count = 1\n",
    "while count <= 99:\n",
    "    sum += count\n",
    "    count += 2\n",
    "\n",
    "print(sum)\n",
    "\n",
    "# Using for statement to sum from 1 to 100 \n",
    "sum = 0\n",
    "count = 1\n",
    "for count in range(1,101):\n",
    "    sum += count\n",
    "print(sum)\n",
    "\n",
    "# Using for statement to sum of odd numbers from 1 to 99\n",
    "sum = 0\n",
    "count = 1\n",
    "for count in range(1,101,2):\n",
    "    sum += count\n",
    "print(sum)"
   ]
  },
  {
   "cell_type": "markdown",
   "id": "8c48d087",
   "metadata": {},
   "source": [
    "## 6. Multiplication game"
   ]
  },
  {
   "cell_type": "code",
   "execution_count": 7,
   "id": "89e7b220",
   "metadata": {},
   "outputs": [
    {
     "name": "stdout",
     "output_type": "stream",
     "text": [
      "Good work!\n",
      "Your current score is: 1\n",
      "Good work!\n",
      "Your current score is: 2\n",
      "Thank you for playing!\n",
      "Final score: 2\n"
     ]
    }
   ],
   "source": [
    "import random\n",
    "\n",
    "# Start of the program \n",
    "score = 0\n",
    "while True:\n",
    "    # Randomize x and y from 1 to 10\n",
    "    x = random.randint(1, 10)\n",
    "    y = random.randint(1, 10)\n",
    "    correct_answer = x * y\n",
    "\n",
    "    # Ask the user for the input\n",
    "    user_input = int(input(f\"What is {x} times {y}? \"))\n",
    "    \n",
    "    # Check if the answer is correct and update the score\n",
    "    if user_input == correct_answer:\n",
    "        print(\"Good work!\")\n",
    "        score += 1\n",
    "    else:\n",
    "        print(f\"Sorry, that's not right. The correct answer is {correct_answer}.\")\n",
    "\n",
    "    print(f\"Your current score is: {score}\")\n",
    "\n",
    "    # Ask to play again\n",
    "    while True:\n",
    "        play_again = input(\"Play again? (Yes/No): \").lower()\n",
    "        if play_again in ['yes', 'no']:\n",
    "            break\n",
    "        else:\n",
    "            print(\"Please enter 'Yes' or 'No'.\")\n",
    "\n",
    "    # Exit the main loop if the user doesn't want to play again\n",
    "    if play_again == 'no':\n",
    "        break\n",
    "\n",
    "# Thank the player and end the game\n",
    "print(\"Thank you for playing!\")\n",
    "print(f\"Final score: {score}\")"
   ]
  },
  {
   "cell_type": "markdown",
   "id": "2a0d6e48",
   "metadata": {},
   "source": [
    "## 7. Multiplication table"
   ]
  },
  {
   "cell_type": "code",
   "execution_count": 14,
   "id": "fa6a99d5",
   "metadata": {},
   "outputs": [
    {
     "name": "stdout",
     "output_type": "stream",
     "text": [
      "6 x 0 = 0\n",
      "6 x 1 = 6\n",
      "6 x 2 = 12\n",
      "6 x 3 = 18\n",
      "6 x 4 = 24\n",
      "6 x 5 = 30\n",
      "6 x 6 = 36\n",
      "6 x 7 = 42\n",
      "6 x 8 = 48\n",
      "6 x 9 = 54\n",
      "6 x 10 = 60\n"
     ]
    }
   ],
   "source": [
    "# print out the 6th multiplication table from 0 to 10 \n",
    "for i in range(11):  # The range(11) function includes numbers from 0 up to 10\n",
    "    result = 6 * i\n",
    "    print(f\"6 x {i} = {result}\")"
   ]
  },
  {
   "cell_type": "markdown",
   "id": "6d3c5af5",
   "metadata": {},
   "source": [
    "## 8. Rice on chessboard"
   ]
  },
  {
   "cell_type": "code",
   "execution_count": 17,
   "id": "5f7b0229",
   "metadata": {},
   "outputs": [
    {
     "name": "stdout",
     "output_type": "stream",
     "text": [
      "Total grains of rice on the chessboard: 18446744073709551615\n"
     ]
    }
   ],
   "source": [
    "grains = 0\n",
    "current = 1  # first square has 1 grain\n",
    "\n",
    "for _ in range(64):  # 64 squares on a chessboard\n",
    "    grains += current\n",
    "    current *= 2  # double for the next square\n",
    "\n",
    "print(\"Total grains of rice on the chessboard:\", grains)\n"
   ]
  },
  {
   "cell_type": "markdown",
   "id": "d1a5b187",
   "metadata": {},
   "source": [
    "## Check convergence"
   ]
  },
  {
   "cell_type": "code",
   "execution_count": null,
   "id": "e82d0e92",
   "metadata": {},
   "outputs": [
    {
     "name": "stdout",
     "output_type": "stream",
     "text": [
      "Sum (a) using while loop: 1.9999999999999991\n",
      "Sum (a) using for loop: 1.9999999999999991\n",
      "Sum (b) using while loop: 0.7902996532467627\n",
      "Sum (b) using for loop: 0.7902996532467627\n"
     ]
    }
   ],
   "source": [
    "# Geometric series with while loop\n",
    "n = 20  # try different values\n",
    "i = 0\n",
    "sum_a = 0\n",
    "while i <= n:\n",
    "    sum_a += 1 / (2**i)\n",
    "    i += 1\n",
    "print(\"Sum (a) using while loop:\", sum_a)\n",
    "\n",
    "# Geometric series with for loop\n",
    "sum_a_for = 0\n",
    "for i in range(n+1):\n",
    "    sum_a_for += 1 / (2**i)\n",
    "print(\"Sum (a) using for loop:\", sum_a_for)\n",
    "\n",
    "\n",
    "# Leibniz series with while loop\n",
    "i = 0\n",
    "sum_b = 0\n",
    "while i <= n:\n",
    "    sum_b += ((-1)**i) / (2*i + 1)\n",
    "    i += 1\n",
    "print(\"Sum (b) using while loop:\", sum_b)\n",
    "\n",
    "# Leibniz series with for loop\n",
    "sum_b_for = 0\n",
    "for i in range(n+1):\n",
    "    sum_b_for += ((-1)**i) / (2*i + 1)\n",
    "print(\"Sum (b) using for loop:\", sum_b_for)\n"
   ]
  },
  {
   "cell_type": "markdown",
   "id": "faba5470",
   "metadata": {},
   "source": [
    "### Fill in this table either by copying this into your own markdown file or copy it into a spreadsheet if you feel that is easier to work with.\n",
    "\n",
    "| terminology       | explanation |\n",
    "| ----------------- | ----------- |\n",
    "| control structures | Code that runs a block based on whether a condition is True or False. |\n",
    "| conditional statement | A statement that executes a block of code only if a specified condition is True or False |\n",
    "|   if    | The first condition checked; its code runs if the condition is True. |\n",
    "| elif | Short for \"else if.\" Used after an if to check an additional condition only if the previous if or elif conditions were False. |\n",
    "| else | The default block that runs if all preceding if and elif conditions are False. |\n",
    "| for | A loop used for iterating over a sequence (e.g., a list or a range). |\n",
    "| while | A loop that runs repeatedly as long as a specified condition remains True. |\n",
    "| break | A command to immediately exit the current loop. |\n",
    "| continue | A command to skip the rest of the current loop iteration and move to the next. |\n",
    "| boolean expression | An expression that evaluates to either True or False. |\n",
    "| loop | A structure for repeating a block of code multiple times. |\n",
    "| nested loop | A loop structure that is entirely inside another loop. |\n",
    "| nested if statement | An if statement that is placed inside the code block of another if/elif/else. |\n",
    "| expression | Code that the computer evaluates to produce a single value (e.g., 2+2). |\n",
    "| statement | A complete instruction that the interpreter can execute (e.g., print(\"hi\") or an entire if block). |\n",
    "| control flow | The order in which the program's statements are executed. |\n"
   ]
  }
 ],
 "metadata": {
  "kernelspec": {
   "display_name": "STI_DataEngineer25",
   "language": "python",
   "name": "python3"
  },
  "language_info": {
   "codemirror_mode": {
    "name": "ipython",
    "version": 3
   },
   "file_extension": ".py",
   "mimetype": "text/x-python",
   "name": "python",
   "nbconvert_exporter": "python",
   "pygments_lexer": "ipython3",
   "version": "3.12.8"
  }
 },
 "nbformat": 4,
 "nbformat_minor": 5
}
