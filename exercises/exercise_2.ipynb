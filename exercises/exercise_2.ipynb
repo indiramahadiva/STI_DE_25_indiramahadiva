{
 "cells": [
  {
   "cell_type": "markdown",
   "id": "99c3559a",
   "metadata": {},
   "source": [
    "# Exercise 2 - control structures"
   ]
  },
  {
   "cell_type": "markdown",
   "id": "110423f0",
   "metadata": {},
   "source": [
    "## 0. Check sign"
   ]
  },
  {
   "cell_type": "code",
   "execution_count": null,
   "id": "174fcc5b",
   "metadata": {},
   "outputs": [
    {
     "name": "stdout",
     "output_type": "stream",
     "text": [
      "this is zero\n"
     ]
    }
   ],
   "source": [
    "# Ask the user to input a number and check if this number is positive, negative or zero and print it out.\n",
    "\n",
    "# Prompt the user to enter a number\n",
    "number = int(input(\"Enter number : \"))\n",
    "\n",
    "# Compare the numbers and and check if this number is positive, negative or zero and print it out.\n",
    "if number > 0:\n",
    "    print(\" This is positive number\")\n",
    "elif number < 0:\n",
    "    print(\" This is negative number \") \n",
    "else:\n",
    "    print(\"this is zero\")"
   ]
  },
  {
   "cell_type": "markdown",
   "id": "a4874298",
   "metadata": {},
   "source": [
    "## 1. Smallest "
   ]
  },
  {
   "cell_type": "code",
   "execution_count": 7,
   "id": "e069f1ce",
   "metadata": {},
   "outputs": [
    {
     "name": "stdout",
     "output_type": "stream",
     "text": [
      "The smallest number is 6.0\n"
     ]
    }
   ],
   "source": [
    "# Ask the user to input two numbers and check which one is the smallest and print it out.\n",
    "\n",
    "# Prompt the user to enter a number\n",
    "num1 = float(input(\"Enter the first number :\"))\n",
    "num2 = float(input(\"Enter the first number :\"))\n",
    "\n",
    "# Checking the numbers and print the smallest number\n",
    "if num1 < num2:\n",
    "    print(f\"The smallest number is {num1}\")\n",
    "elif num2 < num1:\n",
    "    print(f\"The smallest number is {num2}\")\n",
    "else : \n",
    "    print(f\"Both numbers are equal {num1}\")"
   ]
  },
  {
   "cell_type": "markdown",
   "id": "8c0724a3",
   "metadata": {},
   "source": [
    "## 2. Medicine"
   ]
  },
  {
   "cell_type": "code",
   "execution_count": null,
   "id": "46e15b97",
   "metadata": {},
   "outputs": [],
   "source": [
    "\"\"\"Let the user input a number. Check if the number is\n",
    "\n",
    "a. even or odd\n",
    "b. is divisible by 5\n",
    "c. is divisble by 5 and odd \"\"\"\n",
    "\n"
   ]
  }
 ],
 "metadata": {
  "kernelspec": {
   "display_name": "STI_DataEngineer25",
   "language": "python",
   "name": "python3"
  },
  "language_info": {
   "codemirror_mode": {
    "name": "ipython",
    "version": 3
   },
   "file_extension": ".py",
   "mimetype": "text/x-python",
   "name": "python",
   "nbconvert_exporter": "python",
   "pygments_lexer": "ipython3",
   "version": "3.12.8"
  }
 },
 "nbformat": 4,
 "nbformat_minor": 5
}
