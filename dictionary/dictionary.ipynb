{
 "cells": [
  {
   "cell_type": "markdown",
   "id": "3498d8c6",
   "metadata": {},
   "source": [
    "# Dictionary\n",
    "\n",
    "- also a collection data type\n",
    "- the data is stored in key-value pairs"
   ]
  },
  {
   "cell_type": "code",
   "execution_count": null,
   "id": "0abbdf80",
   "metadata": {},
   "outputs": [
    {
     "name": "stdout",
     "output_type": "stream",
     "text": [
      "employee\n"
     ]
    },
    {
     "data": {
      "text/plain": [
       "{'name': 'Indira',\n",
       " 'age': 27,\n",
       " 'work': 'employee',\n",
       " 'pet': 'cat',\n",
       " 'interests': ['IT', 'badminton', 'footboll']}"
      ]
     },
     "execution_count": 2,
     "metadata": {},
     "output_type": "execute_result"
    }
   ],
   "source": [
    "# Create a dictionary with() class\n",
    "# Instantiate a dictionary object called person \n",
    "person = dict(\n",
    "    name=\"Indira\",\n",
    "    age=27,\n",
    "    work=\"employee\",\n",
    "    pet=\"cat\",\n",
    "    interests=[\"IT\", \"badminton\", \"footboll\"],\n",
    ")\n",
    "\n",
    "print(person[\"work\"])\n",
    "person"
   ]
  },
  {
   "cell_type": "code",
   "execution_count": 6,
   "id": "27cb5d0e",
   "metadata": {},
   "outputs": [
    {
     "data": {
      "text/plain": [
       "{'x': 23, 'y': 43.2}"
      ]
     },
     "execution_count": 6,
     "metadata": {},
     "output_type": "execute_result"
    }
   ],
   "source": [
    "coordinates = {\"x\": 23, \"y\": 43.2}\n",
    "coordinates"
   ]
  },
  {
   "cell_type": "code",
   "execution_count": 7,
   "id": "68f1f0a4",
   "metadata": {},
   "outputs": [
    {
     "data": {
      "text/plain": [
       "(dict, dict)"
      ]
     },
     "execution_count": 7,
     "metadata": {},
     "output_type": "execute_result"
    }
   ],
   "source": [
    "type(coordinates), type(person)"
   ]
  },
  {
   "cell_type": "code",
   "execution_count": 8,
   "id": "c2d848bf",
   "metadata": {},
   "outputs": [
    {
     "data": {
      "text/plain": [
       "dict_keys(['name', 'age', 'work', 'pet', 'interest'])"
      ]
     },
     "execution_count": 8,
     "metadata": {},
     "output_type": "execute_result"
    }
   ],
   "source": [
    "person.keys()"
   ]
  },
  {
   "cell_type": "code",
   "execution_count": 9,
   "id": "27eea506",
   "metadata": {},
   "outputs": [
    {
     "data": {
      "text/plain": [
       "dict_values(['Indira', 27, 'employee', 'cat', ['IT', 'badminton', 'footboll']])"
      ]
     },
     "execution_count": 9,
     "metadata": {},
     "output_type": "execute_result"
    }
   ],
   "source": [
    "person.values()"
   ]
  },
  {
   "cell_type": "code",
   "execution_count": 10,
   "id": "b47e6021",
   "metadata": {},
   "outputs": [
    {
     "data": {
      "text/plain": [
       "'Indira'"
      ]
     },
     "execution_count": 10,
     "metadata": {},
     "output_type": "execute_result"
    }
   ],
   "source": [
    "person[\"name\"]"
   ]
  },
  {
   "cell_type": "code",
   "execution_count": null,
   "id": "9dcd2872",
   "metadata": {},
   "outputs": [
    {
     "data": {
      "text/plain": [
       "['IT', 'badminton', 'footboll']"
      ]
     },
     "execution_count": 12,
     "metadata": {},
     "output_type": "execute_result"
    }
   ],
   "source": [
    "person.get(\"interests\")"
   ]
  },
  {
   "cell_type": "code",
   "execution_count": 16,
   "id": "ba195225",
   "metadata": {},
   "outputs": [
    {
     "data": {
      "text/plain": [
       "NoneType"
      ]
     },
     "execution_count": 16,
     "metadata": {},
     "output_type": "execute_result"
    }
   ],
   "source": [
    "type(person.get(\"interest\"))"
   ]
  },
  {
   "cell_type": "code",
   "execution_count": 17,
   "id": "42520199",
   "metadata": {},
   "outputs": [
    {
     "ename": "KeyError",
     "evalue": "'Interest'",
     "output_type": "error",
     "traceback": [
      "\u001b[31m---------------------------------------------------------------------------\u001b[39m",
      "\u001b[31mKeyError\u001b[39m                                  Traceback (most recent call last)",
      "\u001b[36mCell\u001b[39m\u001b[36m \u001b[39m\u001b[32mIn[17]\u001b[39m\u001b[32m, line 1\u001b[39m\n\u001b[32m----> \u001b[39m\u001b[32m1\u001b[39m \u001b[43mperson\u001b[49m\u001b[43m[\u001b[49m\u001b[33;43m\"\u001b[39;49m\u001b[33;43mInterest\u001b[39;49m\u001b[33;43m\"\u001b[39;49m\u001b[43m]\u001b[49m\n",
      "\u001b[31mKeyError\u001b[39m: 'Interest'"
     ]
    }
   ],
   "source": [
    "person[\"Interest\"]"
   ]
  },
  {
   "cell_type": "code",
   "execution_count": 18,
   "id": "094ea368",
   "metadata": {},
   "outputs": [
    {
     "name": "stdout",
     "output_type": "stream",
     "text": [
      "name\n",
      "age\n",
      "work\n",
      "pet\n",
      "interests\n"
     ]
    }
   ],
   "source": [
    "for key in person:\n",
    "    print(key)"
   ]
  },
  {
   "cell_type": "code",
   "execution_count": 22,
   "id": "7020058f",
   "metadata": {},
   "outputs": [
    {
     "name": "stdout",
     "output_type": "stream",
     "text": [
      "name : Indira\n",
      "age : 27\n",
      "work : employee\n",
      "pet : cat\n",
      "interests : ['IT', 'badminton', 'footboll']\n"
     ]
    }
   ],
   "source": [
    "for key in person:\n",
    "    print(key,\":\", person[key])"
   ]
  },
  {
   "cell_type": "code",
   "execution_count": 3,
   "id": "80376f2e",
   "metadata": {},
   "outputs": [
    {
     "name": "stdout",
     "output_type": "stream",
     "text": [
      "Key: name\n",
      "--------------\n",
      "Key: age\n",
      "--------------\n",
      "Key: work\n",
      "--------------\n",
      "Key: pet\n",
      "--------------\n",
      "Key: interests\n",
      "--------------\n"
     ]
    }
   ],
   "source": [
    "# Iterare over keys\n",
    "for key in person.keys():\n",
    "    print( f\"Key: {key}\")\n",
    "    print(\"--------------\")"
   ]
  },
  {
   "cell_type": "code",
   "execution_count": 4,
   "id": "03d47728",
   "metadata": {},
   "outputs": [
    {
     "name": "stdout",
     "output_type": "stream",
     "text": [
      "Value: Indira\n",
      "------------\n",
      "Value: 27\n",
      "------------\n",
      "Value: employee\n",
      "------------\n",
      "Value: cat\n",
      "------------\n",
      "Value: ['IT', 'badminton', 'footboll']\n",
      "------------\n"
     ]
    }
   ],
   "source": [
    "# iterative over values\n",
    "for value in person.values():\n",
    "    print(f\"Value: {value}\")\n",
    "    print(\"------------\")"
   ]
  },
  {
   "cell_type": "code",
   "execution_count": 23,
   "id": "a18ff9e8",
   "metadata": {},
   "outputs": [
    {
     "data": {
      "text/plain": [
       "dict_items([('name', 'Indira'), ('age', 27), ('work', 'employee'), ('pet', 'cat'), ('interests', ['IT', 'badminton', 'footboll'])])"
      ]
     },
     "execution_count": 23,
     "metadata": {},
     "output_type": "execute_result"
    }
   ],
   "source": [
    "person.items()"
   ]
  },
  {
   "cell_type": "code",
   "execution_count": 24,
   "id": "cf326309",
   "metadata": {},
   "outputs": [
    {
     "name": "stdout",
     "output_type": "stream",
     "text": [
      "name            Indira\n",
      "age             27\n",
      "work            employee\n",
      "pet             cat\n",
      "interests       ['IT', 'badminton', 'footboll']\n"
     ]
    }
   ],
   "source": [
    "for key,value in person.items():\n",
    "    print(f\"{key:<15} {value}\")"
   ]
  },
  {
   "cell_type": "markdown",
   "id": "a6e4277e",
   "metadata": {},
   "source": [
    "## Dictionary comprehension\n",
    "### create grades with different limits"
   ]
  },
  {
   "cell_type": "code",
   "execution_count": null,
   "id": "daba29eb",
   "metadata": {},
   "outputs": [
    {
     "data": {
      "text/plain": [
       "{'F': 0, 'E': 10, 'D': 20, 'C': 30, 'B': 40, 'A': 50}"
      ]
     },
     "execution_count": 27,
     "metadata": {},
     "output_type": "execute_result"
    }
   ],
   "source": [
    "grade_limit = {grade: i*10 for i, grade in enumerate(\"FEDCBA\")}\n",
    "grade_limit"
   ]
  },
  {
   "cell_type": "code",
   "execution_count": 33,
   "id": "328f8b27",
   "metadata": {},
   "outputs": [
    {
     "name": "stdout",
     "output_type": "stream",
     "text": [
      "[40, 7, 1, 47, 17, 15, 14, 8, 47, 6, 43, 47, 57, 34, 5, 37, 27, 2, 1, 5]\n"
     ]
    }
   ],
   "source": [
    "import random as rnd\n",
    "def generate_scores(number_scores):\n",
    "    rnd.seed(42)\n",
    "    return [rnd.randint(0,60) for _ in range(number_scores)]\n",
    "\n",
    "scores = generate_scores(20)\n",
    "print(scores)"
   ]
  },
  {
   "cell_type": "code",
   "execution_count": 30,
   "id": "5cc518ed",
   "metadata": {},
   "outputs": [
    {
     "data": {
      "text/plain": [
       "{'F': 0, 'E': 0, 'D': 0, 'C': 0, 'B': 0, 'A': 0}"
      ]
     },
     "execution_count": 30,
     "metadata": {},
     "output_type": "execute_result"
    }
   ],
   "source": [
    "grade_count = {key: 0 for key in grade_limit}\n",
    "grade_count"
   ]
  },
  {
   "cell_type": "code",
   "execution_count": 36,
   "id": "47cb12bc",
   "metadata": {},
   "outputs": [
    {
     "name": "stdout",
     "output_type": "stream",
     "text": [
      "Grade count {'F': 24, 'E': 9, 'D': 3, 'C': 6, 'B': 15, 'A': 3}\n"
     ]
    }
   ],
   "source": [
    "scores = generate_scores(20)\n",
    "for score in scores:\n",
    "    for grade, limit in grade_limit.items():\n",
    "        if limit <= score < limit+10:\n",
    "            grade_count[grade] += 1\n",
    "\n",
    "\n",
    "print(f\"Grade count {grade_count}\")"
   ]
  },
  {
   "cell_type": "code",
   "execution_count": null,
   "id": "f9fe8d6f",
   "metadata": {},
   "outputs": [],
   "source": []
  }
 ],
 "metadata": {
  "kernelspec": {
   "display_name": "STI_DataEngineer25",
   "language": "python",
   "name": "python3"
  },
  "language_info": {
   "codemirror_mode": {
    "name": "ipython",
    "version": 3
   },
   "file_extension": ".py",
   "mimetype": "text/x-python",
   "name": "python",
   "nbconvert_exporter": "python",
   "pygments_lexer": "ipython3",
   "version": "3.12.8"
  }
 },
 "nbformat": 4,
 "nbformat_minor": 5
}
