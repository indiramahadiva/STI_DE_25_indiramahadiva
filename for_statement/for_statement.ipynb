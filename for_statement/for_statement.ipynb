{
 "cells": [
  {
   "cell_type": "markdown",
   "id": "4784e18e",
   "metadata": {},
   "source": [
    "# for statement"
   ]
  },
  {
   "cell_type": "code",
   "execution_count": 1,
   "id": "3f5c1e6e",
   "metadata": {},
   "outputs": [
    {
     "name": "stdout",
     "output_type": "stream",
     "text": [
      "0\n",
      "1\n",
      "2\n"
     ]
    }
   ],
   "source": [
    "for i in range(3):\n",
    "    print(i)"
   ]
  },
  {
   "cell_type": "code",
   "execution_count": 2,
   "id": "8f8b76ee",
   "metadata": {},
   "outputs": [
    {
     "name": "stdout",
     "output_type": "stream",
     "text": [
      "number 0\n",
      "number 1\n",
      "number 2\n"
     ]
    }
   ],
   "source": [
    "for i in range(3):\n",
    "    print(f\"number {i}\")"
   ]
  },
  {
   "cell_type": "code",
   "execution_count": 4,
   "id": "625dc12d",
   "metadata": {},
   "outputs": [
    {
     "name": "stdout",
     "output_type": "stream",
     "text": [
      "0 1 2 3 4 5 6 7 8 9 "
     ]
    }
   ],
   "source": [
    "for i in range(10):\n",
    "    print(i, end = \" \")"
   ]
  },
  {
   "cell_type": "code",
   "execution_count": 5,
   "id": "431f3d19",
   "metadata": {},
   "outputs": [
    {
     "name": "stdout",
     "output_type": "stream",
     "text": [
      "2 3 4 5 6 7 8 9 "
     ]
    }
   ],
   "source": [
    "for i in range (2, 10):\n",
    "    print(i,end = \" \")"
   ]
  },
  {
   "cell_type": "code",
   "execution_count": 6,
   "id": "e3a81ac7",
   "metadata": {},
   "outputs": [
    {
     "name": "stdout",
     "output_type": "stream",
     "text": [
      "2 4 6 8 "
     ]
    }
   ],
   "source": [
    "for i in range (2, 10, 2):\n",
    "    print(i,end = \" \")"
   ]
  },
  {
   "cell_type": "code",
   "execution_count": 8,
   "id": "4426eec4",
   "metadata": {},
   "outputs": [
    {
     "name": "stdout",
     "output_type": "stream",
     "text": [
      "0+1+2+3+4+5 = 15\n"
     ]
    }
   ],
   "source": [
    "sum_ = 0\n",
    "\n",
    "for i in range(6):\n",
    "    sum_ += i\n",
    "\n",
    "print(f\"0+1+2+3+4+5 = {sum_}\")"
   ]
  },
  {
   "cell_type": "markdown",
   "id": "de83cd5f",
   "metadata": {},
   "source": [
    "# random module"
   ]
  },
  {
   "cell_type": "code",
   "execution_count": 10,
   "id": "016cded7",
   "metadata": {},
   "outputs": [
    {
     "name": "stdout",
     "output_type": "stream",
     "text": [
      "Number of sixes 1671 in dice rolls\n",
      "probability of getting a six 0.1671\n"
     ]
    }
   ],
   "source": [
    "import random as rnd\n",
    "\n",
    "dice_rolls = 10_000\n",
    "num_six = 0\n",
    "\n",
    "for i in range(dice_rolls):\n",
    "    dice = rnd.randint(1,6)\n",
    "    if dice == 6:\n",
    "        num_six +=1\n",
    "\n",
    "print(f\"Number of sixes {num_six} in dice rolls\")\n",
    "print(f\"probability of getting a six {num_six/dice_rolls}\")\n"
   ]
  },
  {
   "cell_type": "markdown",
   "id": "6d5ba072",
   "metadata": {},
   "source": [
    "# loop through a list"
   ]
  },
  {
   "cell_type": "code",
   "execution_count": null,
   "id": "9022d04c",
   "metadata": {},
   "outputs": [
    {
     "data": {
      "text/plain": [
       "['apple', 'orange', 'grape', 'strawberry']"
      ]
     },
     "execution_count": 11,
     "metadata": {},
     "output_type": "execute_result"
    }
   ],
   "source": [
    "fruits = [\"apple\", \"orange\", \"grape\", \"strawberry\"]\n",
    "fruits"
   ]
  },
  {
   "cell_type": "markdown",
   "id": "d5bbffb0",
   "metadata": {},
   "source": [
    "in other languages - this is not pythonic and should be avoided!"
   ]
  },
  {
   "cell_type": "code",
   "execution_count": 13,
   "id": "1ee119fb",
   "metadata": {},
   "outputs": [
    {
     "name": "stdout",
     "output_type": "stream",
     "text": [
      "apple\n",
      "orange\n",
      "grape\n",
      "strawberry\n"
     ]
    }
   ],
   "source": [
    "for i in range(len(fruits)):\n",
    "    print(fruits[i])"
   ]
  },
  {
   "cell_type": "code",
   "execution_count": 12,
   "id": "88ef8b1a",
   "metadata": {},
   "outputs": [
    {
     "name": "stdout",
     "output_type": "stream",
     "text": [
      "I love to eat\n",
      "apple\n",
      "orange\n",
      "grape\n",
      "strawberry\n"
     ]
    }
   ],
   "source": [
    "print(\"I love to eat\")\n",
    "for fruit in fruits:\n",
    "    print(fruit)"
   ]
  },
  {
   "cell_type": "code",
   "execution_count": 14,
   "id": "66619fdf",
   "metadata": {},
   "outputs": [
    {
     "name": "stdout",
     "output_type": "stream",
     "text": [
      "my favorite fruits are\n",
      "1. apple\n",
      "2. orange\n",
      "3. grape\n",
      "4. strawberry\n"
     ]
    }
   ],
   "source": [
    "print(\"my favorite fruits are\")\n",
    "for i, fruit in enumerate(fruits,1):\n",
    "    print(f\"{i}. {fruit}\")"
   ]
  },
  {
   "cell_type": "code",
   "execution_count": 17,
   "id": "48bfd272",
   "metadata": {},
   "outputs": [
    {
     "name": "stdout",
     "output_type": "stream",
     "text": [
      "FRUIT               RECIPE\n",
      "apple               pie\n",
      "orange              juice\n",
      "grape               juices\n",
      "strawberry          cake\n"
     ]
    }
   ],
   "source": [
    "fruits = [\"apple\", \"orange\", \"grape\", \"strawberry\"]\n",
    "recipes = [\"pie\", \"juice\", \"juices\", \"cake\"]\n",
    "\n",
    "print(f\"{'FRUIT':<20}RECIPE\")\n",
    "for fruit, recipe in zip(fruits, recipes):\n",
    "    print(f\"{fruit:<20}{recipe}\")"
   ]
  },
  {
   "cell_type": "markdown",
   "id": "aa867bb2",
   "metadata": {},
   "source": [
    "# NESTED FOR LOOPS"
   ]
  },
  {
   "cell_type": "code",
   "execution_count": 18,
   "id": "f3128259",
   "metadata": {},
   "outputs": [
    {
     "name": "stdout",
     "output_type": "stream",
     "text": [
      "(0,0) (0,1) (0,2) \n",
      "(1,0) (1,1) (1,2) \n",
      "(2,0) (2,1) (2,2) \n"
     ]
    }
   ],
   "source": [
    "for x in range(3):\n",
    "    for y in range(3):\n",
    "        print(f\"({x},{y})\", end = \" \")\n",
    "    print()"
   ]
  }
 ],
 "metadata": {
  "kernelspec": {
   "display_name": "STI_DataEngineer25",
   "language": "python",
   "name": "python3"
  },
  "language_info": {
   "codemirror_mode": {
    "name": "ipython",
    "version": 3
   },
   "file_extension": ".py",
   "mimetype": "text/x-python",
   "name": "python",
   "nbconvert_exporter": "python",
   "pygments_lexer": "ipython3",
   "version": "3.12.8"
  }
 },
 "nbformat": 4,
 "nbformat_minor": 5
}
