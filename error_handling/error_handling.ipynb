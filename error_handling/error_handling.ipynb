{
 "cells": [
  {
   "cell_type": "markdown",
   "id": "2ef1ee92",
   "metadata": {},
   "source": [
    "# Error handling"
   ]
  },
  {
   "cell_type": "code",
   "execution_count": null,
   "id": "ca4f40d6",
   "metadata": {},
   "outputs": [
    {
     "ename": "SyntaxError",
     "evalue": "expected ':' (2316895122.py, line 1)",
     "output_type": "error",
     "traceback": [
      "  \u001b[36mCell\u001b[39m\u001b[36m \u001b[39m\u001b[32mIn[1]\u001b[39m\u001b[32m, line 1\u001b[39m\n\u001b[31m    \u001b[39m\u001b[31mif 5 < 7\u001b[39m\n            ^\n\u001b[31mSyntaxError\u001b[39m\u001b[31m:\u001b[39m expected ':'\n"
     ]
    }
   ],
   "source": [
    "if 5 < 7\n",
    "    print(\"5 is less than 7\")"
   ]
  },
  {
   "cell_type": "markdown",
   "id": "1a29a1a1",
   "metadata": {},
   "source": [
    "## Exception errors or runtime errors"
   ]
  },
  {
   "cell_type": "code",
   "execution_count": 2,
   "id": "3e14d44d",
   "metadata": {},
   "outputs": [
    {
     "ename": "IndexError",
     "evalue": "list index out of range",
     "output_type": "error",
     "traceback": [
      "\u001b[31m---------------------------------------------------------------------------\u001b[39m",
      "\u001b[31mIndexError\u001b[39m                                Traceback (most recent call last)",
      "\u001b[36mCell\u001b[39m\u001b[36m \u001b[39m\u001b[32mIn[2]\u001b[39m\u001b[32m, line 2\u001b[39m\n\u001b[32m      1\u001b[39m numbers = \u001b[38;5;28mlist\u001b[39m(\u001b[38;5;28mrange\u001b[39m(\u001b[32m10\u001b[39m))\n\u001b[32m----> \u001b[39m\u001b[32m2\u001b[39m \u001b[43mnumbers\u001b[49m\u001b[43m \u001b[49m\u001b[43m[\u001b[49m\u001b[32;43m11\u001b[39;49m\u001b[43m]\u001b[49m\n",
      "\u001b[31mIndexError\u001b[39m: list index out of range"
     ]
    }
   ],
   "source": [
    "numbers = list(range(10))\n",
    "numbers [11]"
   ]
  },
  {
   "cell_type": "markdown",
   "id": "c53d6ad2",
   "metadata": {},
   "source": [
    "## Logical error"
   ]
  },
  {
   "cell_type": "code",
   "execution_count": 3,
   "id": "285ab97f",
   "metadata": {},
   "outputs": [
    {
     "name": "stdout",
     "output_type": "stream",
     "text": [
      "15.707963267948966\n"
     ]
    }
   ],
   "source": [
    "import numpy as np\n",
    "area_circle = lambda radius: np.pi*radius\n",
    "\n",
    "print(area_circle(5))"
   ]
  },
  {
   "cell_type": "markdown",
   "id": "e9045638",
   "metadata": {},
   "source": [
    "## try - except"
   ]
  },
  {
   "cell_type": "code",
   "execution_count": null,
   "id": "4cc79797",
   "metadata": {},
   "outputs": [
    {
     "name": "stdout",
     "output_type": "stream",
     "text": [
      "Invalid input: Age must be between 0 and 124\n"
     ]
    }
   ],
   "source": [
    "age = input(\"Enter your age\")\n",
    "\n",
    "try:\n",
    "    age = float(age)\n",
    "    if not 0 <= age < 125:\n",
    "        raise ValueError(\"Age must be between 0 and 124\")\n",
    "    print(f\"Your age is {age} years old\")\n",
    "except ValueError as e:\n",
    "    print(f\"Invalid input: {e}\")"
   ]
  },
  {
   "cell_type": "code",
   "execution_count": 7,
   "id": "965f6c77",
   "metadata": {},
   "outputs": [
    {
     "name": "stdout",
     "output_type": "stream",
     "text": [
      "Invalid input: could not convert string to float: 'j'\n",
      "Your age is 7.0 years old\n"
     ]
    }
   ],
   "source": [
    "while True:\n",
    "    age = input(\"Enter your age\")\n",
    "    try:\n",
    "        age = float(age)\n",
    "        if not 0 <= age < 125:\n",
    "            raise ValueError(\"Age must be between 0 and 124\")\n",
    "        print(f\"Your age is {age} years old\")\n",
    "        break\n",
    "    except ValueError as e:\n",
    "        print(f\"Invalid input: {e}\")"
   ]
  }
 ],
 "metadata": {
  "kernelspec": {
   "display_name": "STI_DataEngineer25",
   "language": "python",
   "name": "python3"
  },
  "language_info": {
   "codemirror_mode": {
    "name": "ipython",
    "version": 3
   },
   "file_extension": ".py",
   "mimetype": "text/x-python",
   "name": "python",
   "nbconvert_exporter": "python",
   "pygments_lexer": "ipython3",
   "version": "3.12.8"
  }
 },
 "nbformat": 4,
 "nbformat_minor": 5
}
