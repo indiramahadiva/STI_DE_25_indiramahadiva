{
 "cells": [
  {
   "cell_type": "code",
   "execution_count": 135,
   "id": "2bf741d2",
   "metadata": {},
   "outputs": [
    {
     "data": {
      "text/plain": [
       "OldCoinStash(owner='Ragnar Lothbroke')"
      ]
     },
     "execution_count": 135,
     "metadata": {},
     "output_type": "execute_result"
    }
   ],
   "source": [
    "from oldcoins import OldCoinsStash\n",
    "\n",
    "stash_ragnar = OldCoinsStash(\"Ragnar Lothbroke\")\n",
    "stash_ragnar"
   ]
  },
  {
   "cell_type": "code",
   "execution_count": 136,
   "id": "72935d3e",
   "metadata": {},
   "outputs": [
    {
     "data": {
      "text/plain": [
       "'Coins in stash: 0 riksdaler, 0 skilling'"
      ]
     },
     "execution_count": 136,
     "metadata": {},
     "output_type": "execute_result"
    }
   ],
   "source": [
    "stash_ragnar.check_balance()"
   ]
  },
  {
   "cell_type": "code",
   "execution_count": 137,
   "id": "5fe34a14",
   "metadata": {},
   "outputs": [
    {
     "data": {
      "text/plain": [
       "'Coins in stash: 200 riksdaler, 20 skilling'"
      ]
     },
     "execution_count": 137,
     "metadata": {},
     "output_type": "execute_result"
    }
   ],
   "source": [
    "stash_ragnar.deposit(200,20)\n",
    "stash_ragnar.check_balance()"
   ]
  },
  {
   "cell_type": "code",
   "execution_count": 138,
   "id": "ced1c1b6",
   "metadata": {},
   "outputs": [
    {
     "name": "stdout",
     "output_type": "stream",
     "text": [
      "property 'name' of 'Person' object has no setter\n",
      "Orjan\n",
      "Orjan says hi\n"
     ]
    }
   ],
   "source": [
    "class Person:\n",
    "    def __init__(self, name: str, age: int) -> None:\n",
    "        self._name = name\n",
    "        self.age = age\n",
    "\n",
    "    @property\n",
    "    def name(self):\n",
    "        return self._name\n",
    "\n",
    "    @property\n",
    "    def age(self):\n",
    "        return self._age\n",
    "\n",
    "    @age.setter\n",
    "    def age(self,value:int):\n",
    "        if not isinstance (value, int):\n",
    "            raise TypeError (f\"age must be of type, int not {type(value)}\")\n",
    "        if value < 0 or value > 124:\n",
    "            raise ValueError(f\"age must be between 0 and 123, not {value}\")\n",
    "        \n",
    "        self._age = value\n",
    "\n",
    "    def say_hi(self):\n",
    "        print(f\"{self.name} says hi\")\n",
    "\n",
    "p1 = Person(\"Orjan\", 25)\n",
    "\n",
    "try:\n",
    "    # setter not defined\n",
    "    p1.name = \"Börje\"\n",
    "except AttributeError as err:\n",
    "    print(err)\n",
    "\n",
    "#used getter\n",
    "print(p1.name)\n",
    "p1.say_hi()"
   ]
  },
  {
   "cell_type": "code",
   "execution_count": 139,
   "id": "df1fb824",
   "metadata": {},
   "outputs": [
    {
     "name": "stdout",
     "output_type": "stream",
     "text": [
      "age must be between 0 and 123, not -5\n",
      "age must be of type, int not <class 'str'>\n"
     ]
    }
   ],
   "source": [
    "try:\n",
    "    p2 = Person(\"Ceda\", age =-5)\n",
    "except ValueError as err:\n",
    "    print(err)\n",
    "\n",
    "try:\n",
    "    p3 = Person(\"Doddo\", age = \"femtio\")\n",
    "except TypeError as err:\n",
    "    print(err)\n",
    "\n"
   ]
  },
  {
   "cell_type": "markdown",
   "id": "7356a0bc",
   "metadata": {},
   "source": [
    "## Implement Student"
   ]
  },
  {
   "cell_type": "code",
   "execution_count": 140,
   "id": "eb245085",
   "metadata": {},
   "outputs": [
    {
     "name": "stdout",
     "output_type": "stream",
     "text": [
      "age must be between 0 and 123, not 125\n",
      "Student Dan says hi in language Python\n"
     ]
    }
   ],
   "source": [
    "class Student(Person):\n",
    "    def __init__(self,name: str,age: int, language: str):\n",
    "        #this goes to the parent and use its __init__\n",
    "        super().__init__(name,age)\n",
    "        self.language = language\n",
    "\n",
    "    # overrides say_hi() -> when calling say_hi() from a Student\n",
    "    #It will call this say_hi() and not the parent one\n",
    "    def say_hi(self):\n",
    "        print (f\"Student {self.name} says hi in language {self.language}\")\n",
    "\n",
    "try:\n",
    "    s1 = Student(\"Björn\", 125, language= \"Norska\")\n",
    "except ValueError as err:\n",
    "    print(err)\n",
    "\n",
    "s2 = Student(\"Dan\", 37, language = \"Python\")\n",
    "s2.say_hi()"
   ]
  },
  {
   "cell_type": "code",
   "execution_count": 141,
   "id": "8f51d10e",
   "metadata": {},
   "outputs": [
    {
     "name": "stdout",
     "output_type": "stream",
     "text": [
      "ubbe says hi\n"
     ]
    },
    {
     "data": {
      "text/plain": [
       "OldCoinStash(owner='ubbe')"
      ]
     },
     "execution_count": 141,
     "metadata": {},
     "output_type": "execute_result"
    }
   ],
   "source": [
    "from oldcoins import OldCoinsStash\n",
    "\n",
    "class Viking(Person):\n",
    "    def __init__(self,name: str,age: int) -> None:\n",
    "        super().__init__(name,age)\n",
    "        self.stash = OldCoinsStash(name)\n",
    "\n",
    "viking_ubbe = Viking(\"ubbe\",35)\n",
    "viking_ubbe.say_hi()\n",
    "\n",
    "viking_ubbe.stash"
   ]
  },
  {
   "cell_type": "code",
   "execution_count": 142,
   "id": "0c3598d3",
   "metadata": {},
   "outputs": [
    {
     "data": {
      "text/plain": [
       "'Coins in stash: 500 riksdaler, 10 skilling'"
      ]
     },
     "execution_count": 142,
     "metadata": {},
     "output_type": "execute_result"
    }
   ],
   "source": [
    "viking_ubbe.stash.deposit(500,10)\n",
    "viking_ubbe.stash.check_balance()"
   ]
  }
 ],
 "metadata": {
  "kernelspec": {
   "display_name": "STI_DataEngineer25",
   "language": "python",
   "name": "python3"
  },
  "language_info": {
   "codemirror_mode": {
    "name": "ipython",
    "version": 3
   },
   "file_extension": ".py",
   "mimetype": "text/x-python",
   "name": "python",
   "nbconvert_exporter": "python",
   "pygments_lexer": "ipython3",
   "version": "3.12.8"
  }
 },
 "nbformat": 4,
 "nbformat_minor": 5
}
