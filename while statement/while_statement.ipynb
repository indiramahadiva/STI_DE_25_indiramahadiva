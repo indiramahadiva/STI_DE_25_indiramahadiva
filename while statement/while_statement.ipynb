{
 "cells": [
  {
   "cell_type": "markdown",
   "id": "6ce7c885",
   "metadata": {},
   "source": [
    "# Whiile statements"
   ]
  },
  {
   "cell_type": "code",
   "execution_count": 4,
   "id": "41c7d6da",
   "metadata": {},
   "outputs": [
    {
     "name": "stdout",
     "output_type": "stream",
     "text": [
      "Hello 0\n",
      "Hello 1\n",
      "Hello 2\n",
      "Hello 3\n",
      "Hello 4\n"
     ]
    }
   ],
   "source": [
    "n = 0\n",
    "while n < 5 :\n",
    "    print(f\"Hello {n}\")\n",
    "    n += 1 # n = n + 1"
   ]
  },
  {
   "cell_type": "markdown",
   "id": "8efea1aa",
   "metadata": {},
   "source": [
    "# Example - oil leakage\n",
    "There is an oil leakage causing the bird population in an island to 1/2 in each year. From start there were 80000 birds, how many years does it take for it to have 1/10 remaining?"
   ]
  },
  {
   "cell_type": "code",
   "execution_count": 6,
   "id": "78c7c65e",
   "metadata": {},
   "outputs": [
    {
     "name": "stdout",
     "output_type": "stream",
     "text": [
      "Year 0 there were 80000 birds\n",
      "Year 1 there were 40000 birds\n",
      "Year 2 there were 20000 birds\n",
      "Year 3 there were 10000 birds\n",
      "It takes 4 years for the birds to have 1/10 of the population\n"
     ]
    }
   ],
   "source": [
    "birds = 80_000\n",
    "year = 0\n",
    "\n",
    "while birds > 8000:\n",
    "    print(f\"Year {year} there were {birds:.0f} birds\")\n",
    "    birds /= 2 \n",
    "    year += 1\n",
    "\n",
    "print(f\"It takes {year} years for the birds to have 1/10 of the population\")"
   ]
  },
  {
   "cell_type": "markdown",
   "id": "f309bff2",
   "metadata": {},
   "source": [
    "# Break statement"
   ]
  },
  {
   "cell_type": "code",
   "execution_count": 4,
   "id": "9fafd237",
   "metadata": {},
   "outputs": [
    {
     "data": {
      "text/plain": [
       "4"
      ]
     },
     "execution_count": 4,
     "metadata": {},
     "output_type": "execute_result"
    }
   ],
   "source": [
    "import random as rnd\n",
    "\n",
    "rnd.randint(1,10)"
   ]
  },
  {
   "cell_type": "code",
   "execution_count": 1,
   "id": "728d65ea",
   "metadata": {},
   "outputs": [
    {
     "name": "stdout",
     "output_type": "stream",
     "text": [
      "correct\n",
      "have a nice day\n"
     ]
    }
   ],
   "source": [
    "import random as rnd\n",
    "\n",
    "while True:\n",
    "    number1 = rnd.randint(1,10)\n",
    "    number2 = rnd.randint(1,10)\n",
    "\n",
    "    user_answer = int(input(f\"What is {number1}*{number2}\"))\n",
    "\n",
    "    if user_answer == number1*number2:\n",
    "        print(\"correct\")\n",
    "    else:\n",
    "        print(f\"wrong, the answer was {number1*number2}\")\n",
    "    \n",
    "    play_again = input(\"Wanna play again (y for yes)?\")\n",
    "\n",
    "    if play_again != \"y\":\n",
    "        print(\"have a nice day\")\n",
    "        break"
   ]
  },
  {
   "cell_type": "code",
   "execution_count": null,
   "id": "b1859588",
   "metadata": {},
   "outputs": [],
   "source": []
  }
 ],
 "metadata": {
  "kernelspec": {
   "display_name": "STI_DataEngineer25",
   "language": "python",
   "name": "python3"
  },
  "language_info": {
   "codemirror_mode": {
    "name": "ipython",
    "version": 3
   },
   "file_extension": ".py",
   "mimetype": "text/x-python",
   "name": "python",
   "nbconvert_exporter": "python",
   "pygments_lexer": "ipython3",
   "version": "3.12.8"
  }
 },
 "nbformat": 4,
 "nbformat_minor": 5
}
