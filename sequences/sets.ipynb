{
 "cells": [
  {
   "cell_type": "markdown",
   "id": "12052097",
   "metadata": {},
   "source": [
    "# Sets"
   ]
  },
  {
   "cell_type": "code",
   "execution_count": 3,
   "id": "fad93c64",
   "metadata": {},
   "outputs": [
    {
     "data": {
      "text/plain": [
       "['anna@example.com',\n",
       " 'bob@example.com',\n",
       " 'anna@example.com',\n",
       " 'carla@example.com',\n",
       " 'bob@example.com']"
      ]
     },
     "execution_count": 3,
     "metadata": {},
     "output_type": "execute_result"
    }
   ],
   "source": [
    "emails = [\n",
    "    \"anna@example.com\", \"bob@example.com\", \"anna@example.com\",\n",
    "    \"carla@example.com\", \"bob@example.com\"\n",
    "]\n",
    "emails"
   ]
  },
  {
   "cell_type": "code",
   "execution_count": 4,
   "id": "8a3fc754",
   "metadata": {},
   "outputs": [
    {
     "data": {
      "text/plain": [
       "{'anna@example.com', 'bob@example.com', 'carla@example.com'}"
      ]
     },
     "execution_count": 4,
     "metadata": {},
     "output_type": "execute_result"
    }
   ],
   "source": [
    "set(emails)"
   ]
  },
  {
   "cell_type": "code",
   "execution_count": 5,
   "id": "3a94886f",
   "metadata": {},
   "outputs": [
    {
     "data": {
      "text/plain": [
       "['bob@example.com', 'carla@example.com', 'anna@example.com']"
      ]
     },
     "execution_count": 5,
     "metadata": {},
     "output_type": "execute_result"
    }
   ],
   "source": [
    "list(set(emails))"
   ]
  },
  {
   "cell_type": "markdown",
   "id": "05f70a46",
   "metadata": {},
   "source": [
    "## Mathematical set operation\n",
    "\n",
    "- union\n",
    "- intersection\n",
    "- except\n"
   ]
  },
  {
   "cell_type": "code",
   "execution_count": 8,
   "id": "2d649ec3",
   "metadata": {},
   "outputs": [
    {
     "data": {
      "text/plain": [
       "{'carla', 'daniel'}"
      ]
     },
     "execution_count": 8,
     "metadata": {},
     "output_type": "execute_result"
    }
   ],
   "source": [
    "first_month_customers = {\"alice\", \"bob\", \"carla\", \"daniel\"}\n",
    "second_month_customers = {\"carla\", \"daniel\", \"elena\"}\n",
    "\n",
    "returning_customers = first_month_customers.intersection(second_month_customers)\n",
    "returning_customers"
   ]
  },
  {
   "cell_type": "code",
   "execution_count": 11,
   "id": "0e79e2a9",
   "metadata": {},
   "outputs": [
    {
     "data": {
      "text/plain": [
       "{'alice', 'bob', 'carla', 'daniel', 'elena'}"
      ]
     },
     "execution_count": 11,
     "metadata": {},
     "output_type": "execute_result"
    }
   ],
   "source": [
    "all_customers = first_month_customers.union(second_month_customers)\n",
    "all_customers"
   ]
  },
  {
   "cell_type": "markdown",
   "id": "c868465d",
   "metadata": {},
   "source": [
    "## combine union and except intersection"
   ]
  },
  {
   "cell_type": "code",
   "execution_count": 14,
   "id": "a8fea7ea",
   "metadata": {},
   "outputs": [
    {
     "data": {
      "text/plain": [
       "{'alice', 'bob', 'elena'}"
      ]
     },
     "execution_count": 14,
     "metadata": {},
     "output_type": "execute_result"
    }
   ],
   "source": [
    "one_time_customers = first_month_customers.union(second_month_customers) - first_month_customers.intersection(second_month_customers)\n",
    "\n",
    "one_time_customers"
   ]
  },
  {
   "cell_type": "markdown",
   "id": "1d5b3684",
   "metadata": {},
   "source": [
    "### sets have no orders"
   ]
  },
  {
   "cell_type": "code",
   "execution_count": 15,
   "id": "6f6ab85f",
   "metadata": {},
   "outputs": [
    {
     "ename": "TypeError",
     "evalue": "'set' object is not subscriptable",
     "output_type": "error",
     "traceback": [
      "\u001b[31m---------------------------------------------------------------------------\u001b[39m",
      "\u001b[31mTypeError\u001b[39m                                 Traceback (most recent call last)",
      "\u001b[36mCell\u001b[39m\u001b[36m \u001b[39m\u001b[32mIn[15]\u001b[39m\u001b[32m, line 1\u001b[39m\n\u001b[32m----> \u001b[39m\u001b[32m1\u001b[39m \u001b[43mall_customers\u001b[49m\u001b[43m[\u001b[49m\u001b[32;43m0\u001b[39;49m\u001b[43m]\u001b[49m\n",
      "\u001b[31mTypeError\u001b[39m: 'set' object is not subscriptable"
     ]
    }
   ],
   "source": [
    "all_customers[0]"
   ]
  },
  {
   "cell_type": "code",
   "execution_count": 16,
   "id": "f92c5235",
   "metadata": {},
   "outputs": [
    {
     "data": {
      "text/plain": [
       "['carla', 'alice', 'daniel', 'elena', 'bob']"
      ]
     },
     "execution_count": 16,
     "metadata": {},
     "output_type": "execute_result"
    }
   ],
   "source": [
    "list(all_customers)"
   ]
  },
  {
   "cell_type": "code",
   "execution_count": 17,
   "id": "41a71547",
   "metadata": {},
   "outputs": [
    {
     "data": {
      "text/plain": [
       "('carla', 'alice', 'daniel', 'elena', 'bob')"
      ]
     },
     "execution_count": 17,
     "metadata": {},
     "output_type": "execute_result"
    }
   ],
   "source": [
    "tuple(all_customers)"
   ]
  }
 ],
 "metadata": {
  "kernelspec": {
   "display_name": "STI_DataEngineer25",
   "language": "python",
   "name": "python3"
  },
  "language_info": {
   "codemirror_mode": {
    "name": "ipython",
    "version": 3
   },
   "file_extension": ".py",
   "mimetype": "text/x-python",
   "name": "python",
   "nbconvert_exporter": "python",
   "pygments_lexer": "ipython3",
   "version": "3.12.8"
  }
 },
 "nbformat": 4,
 "nbformat_minor": 5
}
