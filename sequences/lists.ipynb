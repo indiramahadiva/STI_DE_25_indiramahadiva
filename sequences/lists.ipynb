{
 "cells": [
  {
   "cell_type": "markdown",
   "id": "5c023cdb",
   "metadata": {},
   "source": [
    "# List"
   ]
  },
  {
   "cell_type": "code",
   "execution_count": 1,
   "id": "448628a8",
   "metadata": {},
   "outputs": [
    {
     "data": {
      "text/plain": [
       "['Antique show', 'Master chef', 'News', 'Talent']"
      ]
     },
     "execution_count": 1,
     "metadata": {},
     "output_type": "execute_result"
    }
   ],
   "source": [
    "tv_shows = [\"Antique show\", \"Master chef\", \"News\", \"Talent\"]\n",
    "\n",
    "tv_shows"
   ]
  },
  {
   "cell_type": "code",
   "execution_count": 2,
   "id": "a93d71dd",
   "metadata": {},
   "outputs": [
    {
     "data": {
      "text/plain": [
       "'Antique show'"
      ]
     },
     "execution_count": 2,
     "metadata": {},
     "output_type": "execute_result"
    }
   ],
   "source": [
    "tv_shows[0]"
   ]
  },
  {
   "cell_type": "code",
   "execution_count": 3,
   "id": "aee177ac",
   "metadata": {},
   "outputs": [
    {
     "data": {
      "text/plain": [
       "'w'"
      ]
     },
     "execution_count": 3,
     "metadata": {},
     "output_type": "execute_result"
    }
   ],
   "source": [
    "tv_shows[0][-1]"
   ]
  },
  {
   "cell_type": "code",
   "execution_count": 4,
   "id": "7256a936",
   "metadata": {},
   "outputs": [
    {
     "data": {
      "text/plain": [
       "['Master chef', 'News']"
      ]
     },
     "execution_count": 4,
     "metadata": {},
     "output_type": "execute_result"
    }
   ],
   "source": [
    "tv_shows[1:3]"
   ]
  },
  {
   "cell_type": "markdown",
   "id": "51f89934",
   "metadata": {},
   "source": [
    "# Iterate through list with for "
   ]
  },
  {
   "cell_type": "code",
   "execution_count": 6,
   "id": "51ba1d16",
   "metadata": {},
   "outputs": [
    {
     "name": "stdout",
     "output_type": "stream",
     "text": [
      "1 Antique show\n",
      "2 Master chef\n",
      "3 News\n",
      "4 Talent\n"
     ]
    }
   ],
   "source": [
    "for i, tv_show in enumerate(tv_shows, 1):\n",
    "    print(i,tv_show)"
   ]
  },
  {
   "cell_type": "markdown",
   "id": "b410a4d8",
   "metadata": {},
   "source": [
    "# Mutate list"
   ]
  },
  {
   "cell_type": "code",
   "execution_count": 7,
   "id": "2f4d7b8e",
   "metadata": {},
   "outputs": [
    {
     "data": {
      "text/plain": [
       "['Antique show', 'Master chef', 'News', 'Pokemon']"
      ]
     },
     "execution_count": 7,
     "metadata": {},
     "output_type": "execute_result"
    }
   ],
   "source": [
    "tv_shows[-1] = \"Pokemon\"\n",
    "tv_shows"
   ]
  },
  {
   "cell_type": "code",
   "execution_count": 8,
   "id": "4040d60a",
   "metadata": {},
   "outputs": [
    {
     "data": {
      "text/plain": [
       "['Yu Gi Oh', 'Master chef', 'News', 'Pokemon']"
      ]
     },
     "execution_count": 8,
     "metadata": {},
     "output_type": "execute_result"
    }
   ],
   "source": [
    "tv_shows[0] = \"Yu Gi Oh\"\n",
    "tv_shows"
   ]
  },
  {
   "cell_type": "code",
   "execution_count": 10,
   "id": "9ce626ff",
   "metadata": {},
   "outputs": [
    {
     "data": {
      "text/plain": [
       "['Master chef', 'News', 'Pokemon', 'Yu Gi Oh']"
      ]
     },
     "execution_count": 10,
     "metadata": {},
     "output_type": "execute_result"
    }
   ],
   "source": [
    "tv_shows.sort()\n",
    "tv_shows"
   ]
  },
  {
   "cell_type": "markdown",
   "id": "b3586f8a",
   "metadata": {},
   "source": [
    "# List comprehensiion"
   ]
  },
  {
   "cell_type": "code",
   "execution_count": 14,
   "id": "07f9b3f4",
   "metadata": {},
   "outputs": [
    {
     "data": {
      "text/plain": [
       "[0, 1, 8, 27, 64, 125, 216, 343, 512, 729]"
      ]
     },
     "execution_count": 14,
     "metadata": {},
     "output_type": "execute_result"
    }
   ],
   "source": [
    "cubes = [x**3 for x in range(10)]\n",
    "cubes"
   ]
  },
  {
   "cell_type": "code",
   "execution_count": null,
   "id": "81bb9497",
   "metadata": {},
   "outputs": [
    {
     "data": {
      "text/plain": [
       "[36, 49, 64, 81]"
      ]
     },
     "execution_count": 12,
     "metadata": {},
     "output_type": "execute_result"
    }
   ],
   "source": [
    "cubes = [x**2 for x in range(10) if x**2 > 25]"
   ]
  },
  {
   "cell_type": "markdown",
   "id": "09b26599",
   "metadata": {},
   "source": [
    "# Plot graph"
   ]
  },
  {
   "cell_type": "code",
   "execution_count": 2,
   "id": "5596a1c0",
   "metadata": {},
   "outputs": [
    {
     "data": {
      "text/plain": [
       "[0, 1, 2, 3, 4, 5, 6, 7, 8, 9]"
      ]
     },
     "execution_count": 2,
     "metadata": {},
     "output_type": "execute_result"
    }
   ],
   "source": [
    "import matplotlib.pyplot as plt\n",
    "\n",
    "x = list(range(10))\n",
    "x\n"
   ]
  },
  {
   "cell_type": "code",
   "execution_count": 3,
   "id": "85d2a48e",
   "metadata": {},
   "outputs": [
    {
     "data": {
      "text/plain": [
       "[2, 4, 6, 8, 10, 12, 14, 16, 18, 20]"
      ]
     },
     "execution_count": 3,
     "metadata": {},
     "output_type": "execute_result"
    }
   ],
   "source": [
    "k = 2\n",
    "m = 2\n",
    "y = [k*x + m for x in x]\n",
    "y\n"
   ]
  },
  {
   "cell_type": "code",
   "execution_count": 7,
   "id": "36fb7f02",
   "metadata": {},
   "outputs": [
    {
     "data": {
      "text/plain": [
       "Text(0.5, 1.0, 'Plot y = 2x + 2')"
      ]
     },
     "execution_count": 7,
     "metadata": {},
     "output_type": "execute_result"
    },
    {
     "data": {
      "image/png": "[encoded data removed]",
      "text/plain": [
       "<Figure size 640x480 with 1 Axes>"
      ]
     },
     "metadata": {},
     "output_type": "display_data"
    }
   ],
   "source": [
    "plt.plot(x,y,'o--')\n",
    "plt.title(\"Plot y = 2x + 2\")"
   ]
  }
 ],
 "metadata": {
  "kernelspec": {
   "display_name": "STI_DataEngineer25",
   "language": "python",
   "name": "python3"
  },
  "language_info": {
   "codemirror_mode": {
    "name": "ipython",
    "version": 3
   },
   "file_extension": ".py",
   "mimetype": "text/x-python",
   "name": "python",
   "nbconvert_exporter": "python",
   "pygments_lexer": "ipython3",
   "version": "3.12.8"
  }
 },
 "nbformat": 4,
 "nbformat_minor": 5
}
