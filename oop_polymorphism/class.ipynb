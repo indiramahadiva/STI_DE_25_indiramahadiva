{
 "cells": [
  {
   "cell_type": "markdown",
   "id": "91c0f540",
   "metadata": {},
   "source": [
    "# Polymorphism in class methods"
   ]
  },
  {
   "cell_type": "code",
   "execution_count": 17,
   "id": "6e1e4d2d",
   "metadata": {},
   "outputs": [
    {
     "name": "stdout",
     "output_type": "stream",
     "text": [
      "I am a fish, my name is Fisky\n",
      "fish Fisky says blupp blupp\n",
      "I am a fish, my name is Goldy\n",
      "fish Goldy says blupp blupp\n",
      "I am a fox, my name is Ylvis, no one knows how I sound\n"
     ]
    }
   ],
   "source": [
    "class Fish:\n",
    "    def __init__(self, name):\n",
    "        self.name = name\n",
    "\n",
    "    def __str__(self):\n",
    "        return f\"I am a fish, my name is {self.name}\"\n",
    "\n",
    "    def speak(self):\n",
    "        print(f\"fish {self.name} says blupp blupp\")\n",
    "\n",
    "class Fox:\n",
    "    def __init__(self, name):\n",
    "        self.name = name\n",
    "\n",
    "    def __str__(self):\n",
    "        return f\"I am a fox, my name is {self.name}, no one knows how I sound\"\n",
    "    \n",
    "    def speak(self):\n",
    "        return NotImplemented\n",
    "    \n",
    "\n",
    "animals = [Fish(\"Fisky\"), Fish(\"Goldy\"), Fox(\"Ylvis\")]\n",
    "\n",
    "for animal in animals:\n",
    "    # using same method name, but behaves differently for different types\n",
    "    print(animal) # uses __str__() for both Fish and Fox\n",
    "    animal.speak() # uses speak for both Fish and Fox"
   ]
  },
  {
   "cell_type": "markdown",
   "id": "c82f7cd4",
   "metadata": {},
   "source": [
    "# Vector"
   ]
  },
  {
   "cell_type": "code",
   "execution_count": 18,
   "id": "5bf28b02",
   "metadata": {},
   "outputs": [
    {
     "name": "stdout",
     "output_type": "stream",
     "text": [
      "<class 'tuple'>\n",
      "(1, 2)\n",
      "<class 'tuple'>\n",
      "('1', 2)\n",
      "elements must be numbers not <class 'str'>\n",
      "<class 'tuple'>\n",
      "()\n",
      "Vector can't be empty\n"
     ]
    }
   ],
   "source": [
    "from utils import validate_number\n",
    "\n",
    "class Vector:\n",
    "    \"\"\"A class representing a Euclidean vector\"\"\"\n",
    "    def __init__(self, *numbers):\n",
    "        print(type(numbers))\n",
    "        print(numbers)\n",
    "\n",
    "        for number in numbers:\n",
    "            validate_number(number)\n",
    "\n",
    "        if len(numbers) <= 0:\n",
    "            raise ValueError(\"Vector can't be empty\")\n",
    "\n",
    "        self._numbers = numbers\n",
    "    \n",
    "    @property\n",
    "    def numbers(self):\n",
    "        return self._numbers\n",
    "\n",
    "\n",
    "v1 = Vector(1,2)\n",
    "\n",
    "try:\n",
    "    v2 = Vector(\"1\",2)\n",
    "except TypeError as err:\n",
    "    print(err)\n",
    "\n",
    "try:\n",
    "    v2 = Vector()\n",
    "except ValueError as err:\n",
    "    print(err)"
   ]
  },
  {
   "cell_type": "code",
   "execution_count": 19,
   "id": "3d924eed",
   "metadata": {},
   "outputs": [
    {
     "name": "stdout",
     "output_type": "stream",
     "text": [
      "len(v3) = 2\n",
      "len(v4) = 6\n",
      "v3 = Vector(1, 1)\n",
      "v5 = Vector(2, -1)\n",
      "v5+v3 = Vector(3, 0)\n",
      "v3+v5 = Vector(3, 0)\n",
      "v3-v5 = Vector(-1, 2)\n",
      "v4[-1] = 6\n",
      "v4[2:] = (41, 5, 2, 6)\n",
      "v3 * 5 = Vector(5, 5)\n"
     ]
    },
    {
     "data": {
      "text/plain": [
       "Vector(5, 5)"
      ]
     },
     "execution_count": 19,
     "metadata": {},
     "output_type": "execute_result"
    }
   ],
   "source": [
    "from numbers import Number\n",
    "\n",
    "class Vector:\n",
    "    \"\"\"A class representing a Euclidean vector\"\"\"\n",
    "\n",
    "    def __init__(self, *numbers):\n",
    "\n",
    "        # validation\n",
    "        for number in numbers:\n",
    "            validate_number(number)\n",
    "\n",
    "        if len(numbers) <= 0:\n",
    "            raise ValueError(\"Vector can't be empty\")\n",
    "\n",
    "        self._numbers = numbers\n",
    "\n",
    "    # read-only\n",
    "    @property\n",
    "    def numbers(self) -> tuple:\n",
    "        return self._numbers\n",
    "\n",
    "    def __repr__(self):\n",
    "        return f\"Vector{self.numbers}\"\n",
    "\n",
    "    # operator overloading -> makes it possible to use len() function on Vector\n",
    "    def __len__(self) -> int:\n",
    "        # this len works on a tuple\n",
    "        return len(self.numbers)\n",
    "\n",
    "    # operator overloads plus operator\n",
    "    def __add__(self, other: Vector) -> Vector:\n",
    "        # validation code - stop addition of different vector dimensions\n",
    "\n",
    "        # elementwise addition between 2 tuples\n",
    "        numbers = (a + b for a, b in zip(self.numbers, other.numbers))\n",
    "        return Vector(*numbers)\n",
    "\n",
    "    def __sub__(self, other: Vector) -> Vector:\n",
    "        # validation code - stop addition of different vector dimensions\n",
    "\n",
    "        # elementwise subtraction between 2 tuples\n",
    "        numbers = (a - b for a, b in zip(self.numbers, other.numbers))\n",
    "        return Vector(*numbers)\n",
    "\n",
    "    def __getitem__(self, item: int) -> Number:\n",
    "        return self.numbers[item]\n",
    "\n",
    "    def __mul__(self, number: Number) -> Vector:\n",
    "        numbers = (number * a for a in self.numbers)\n",
    "        return Vector(*numbers)\n",
    "\n",
    "    # to make multiplication commutative i.e. a*v1 = v1*a\n",
    "    def __rmul__(self, number: Number) -> Vector:\n",
    "        return self * number\n",
    "\n",
    "\n",
    "v3 = Vector(1, 1)\n",
    "v4 = Vector(1, 2, 41, 5, 2, 6)\n",
    "v5 = Vector(2, -1)\n",
    "\n",
    "print(f\"{len(v3) = }\")\n",
    "print(f\"{len(v4) = }\")\n",
    "print(f\"{v3 = }\")\n",
    "print(f\"{v5 = }\")\n",
    "print(f\"{v5+v3 = }\")\n",
    "print(f\"{v3+v5 = }\")\n",
    "print(f\"{v3-v5 = }\")\n",
    "print(f\"{v4[-1] = }\")\n",
    "print(f\"{v4[2:] = }\")\n",
    "print(f\"{v3 * 5 = }\")\n",
    "\n",
    "5 * v3"
   ]
  },
  {
   "cell_type": "code",
   "execution_count": 20,
   "id": "dd4bfcf4",
   "metadata": {},
   "outputs": [
    {
     "data": {
      "text/plain": [
       "3"
      ]
     },
     "execution_count": 20,
     "metadata": {},
     "output_type": "execute_result"
    }
   ],
   "source": [
    "l1 = [1,2,3]\n",
    "l1[-1]"
   ]
  },
  {
   "cell_type": "code",
   "execution_count": 21,
   "id": "ee747d0c",
   "metadata": {},
   "outputs": [
    {
     "data": {
      "text/plain": [
       "Vector(2, 3)"
      ]
     },
     "execution_count": 21,
     "metadata": {},
     "output_type": "execute_result"
    }
   ],
   "source": [
    "v3 + v4"
   ]
  },
  {
   "cell_type": "code",
   "execution_count": 22,
   "id": "d3671a46",
   "metadata": {},
   "outputs": [
    {
     "name": "stdout",
     "output_type": "stream",
     "text": [
      "2\n"
     ]
    },
    {
     "data": {
      "text/plain": [
       "(2, 6)"
      ]
     },
     "execution_count": 22,
     "metadata": {},
     "output_type": "execute_result"
    }
   ],
   "source": [
    "print(len([1,2]))\n",
    "\n",
    "len(v3), len(v4)"
   ]
  },
  {
   "cell_type": "code",
   "execution_count": null,
   "id": "5667542e",
   "metadata": {},
   "outputs": [],
   "source": [
    "for a,b in zip((1,2,3), (-1,-2,-3)):\n",
    "    print(a, b)"
   ]
  }
 ],
 "metadata": {
  "kernelspec": {
   "display_name": "STI_DataEngineer25",
   "language": "python",
   "name": "python3"
  },
  "language_info": {
   "codemirror_mode": {
    "name": "ipython",
    "version": 3
   },
   "file_extension": ".py",
   "mimetype": "text/x-python",
   "name": "python",
   "nbconvert_exporter": "python",
   "pygments_lexer": "ipython3",
   "version": "3.12.8"
  }
 },
 "nbformat": 4,
 "nbformat_minor": 5
}
