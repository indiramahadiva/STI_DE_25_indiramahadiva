{
 "cells": [
  {
   "cell_type": "code",
   "execution_count": null,
   "id": "4eb028d6",
   "metadata": {},
   "outputs": [
    {
     "name": "stdout",
     "output_type": "stream",
     "text": [
      "The final price is 15 kr\n"
     ]
    }
   ],
   "source": [
    "# Declare the apple's price\n",
    "apple_price = 10\n",
    "\n",
    "# Prompt 2 questions to user\n",
    "status = input(\"Are you student or pensioner ?\")\n",
    "apple = int(input(\" How many apple do you want to buy ?\"))\n",
    "\n",
    "# Count the discount\n",
    "student = (apple_price * 30 / 100) * apple\n",
    "pensioner = (apple_price * 50 / 100) * apple\n",
    "\n",
    "# Using if statement to decide final price with the discount\n",
    "if status == \"student\":\n",
    "    print(f\"The final price is {student:.0f} kr\")\n",
    "elif status == \"pensioner\":\n",
    "    print(f\"The final price is {pensioner:.0f} kr\")\n",
    "else:\n",
    "    print(\"Please enter and type the right answer!\")"
   ]
  }
 ],
 "metadata": {
  "kernelspec": {
   "display_name": "STI_DataEngineer25",
   "language": "python",
   "name": "python3"
  },
  "language_info": {
   "codemirror_mode": {
    "name": "ipython",
    "version": 3
   },
   "file_extension": ".py",
   "mimetype": "text/x-python",
   "name": "python",
   "nbconvert_exporter": "python",
   "pygments_lexer": "ipython3",
   "version": "3.12.8"
  }
 },
 "nbformat": 4,
 "nbformat_minor": 5
}
