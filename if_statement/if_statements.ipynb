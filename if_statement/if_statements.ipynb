{
 "cells": [
  {
   "cell_type": "markdown",
   "id": "7c003917",
   "metadata": {},
   "source": [
    "# if-statements"
   ]
  },
  {
   "cell_type": "code",
   "execution_count": 2,
   "id": "95b5da5c",
   "metadata": {},
   "outputs": [
    {
     "name": "stdout",
     "output_type": "stream",
     "text": [
      "Enjoy this scary movie\n"
     ]
    }
   ],
   "source": [
    "age = int(input(\"Enter your age : \"))\n",
    "age_limit = 15\n",
    "\n",
    "if age < age_limit:\n",
    "    print(\"Sorry you are too young to attend this scary movie\")\n",
    "    print(\"watch cartoon instead\")\n",
    "else:\n",
    "    print(\"Enjoy this scary movie\")"
   ]
  },
  {
   "cell_type": "code",
   "execution_count": null,
   "id": "f216bc30",
   "metadata": {},
   "outputs": [],
   "source": [
    "age = 15\n",
    "height = 150\n",
    "\n",
    "if age > 30 and 130 < height < 210:\n",
    "    print(\"Welcome to roller coaster\")\n",
    "else :\n",
    "    print(\"Comeback when you fulfil requirements\")\n",
    "    "
   ]
  },
  {
   "cell_type": "markdown",
   "id": "e914df4f",
   "metadata": {},
   "source": [
    "# Modulu operator"
   ]
  },
  {
   "cell_type": "code",
   "execution_count": 4,
   "id": "99c528e2",
   "metadata": {},
   "outputs": [
    {
     "name": "stdout",
     "output_type": "stream",
     "text": [
      "odd number\n"
     ]
    }
   ],
   "source": [
    "number = 5\n",
    "if number % 2 == 0:\n",
    "    print(\"even number\")\n",
    "else:\n",
    "    print(\"odd number\")\n"
   ]
  },
  {
   "cell_type": "code",
   "execution_count": 5,
   "id": "95eb0e01",
   "metadata": {},
   "outputs": [
    {
     "name": "stdout",
     "output_type": "stream",
     "text": [
      "even number\n"
     ]
    }
   ],
   "source": [
    "number = 20\n",
    "if number % 2 == 0:\n",
    "    print(\"even number\")\n",
    "else:\n",
    "    print(\"odd number\")"
   ]
  },
  {
   "cell_type": "code",
   "execution_count": 1,
   "id": "e599c617",
   "metadata": {},
   "outputs": [
    {
     "name": "stdout",
     "output_type": "stream",
     "text": [
      "falsy\n"
     ]
    }
   ],
   "source": [
    "if [] :\n",
    "    print(\"truthy\")\n",
    "else:\n",
    "    print(\"falsy\")"
   ]
  },
  {
   "cell_type": "code",
   "execution_count": 2,
   "id": "ba45a05c",
   "metadata": {},
   "outputs": [
    {
     "name": "stdout",
     "output_type": "stream",
     "text": [
      "truthy\n"
     ]
    }
   ],
   "source": [
    "if [3] :\n",
    "    print(\"truthy\")\n",
    "else:\n",
    "    print(\"falsy\")"
   ]
  },
  {
   "cell_type": "markdown",
   "id": "df45ac35",
   "metadata": {},
   "source": [
    "# if-elif-else"
   ]
  },
  {
   "cell_type": "code",
   "execution_count": 3,
   "id": "980ea32b",
   "metadata": {},
   "outputs": [
    {
     "name": "stdout",
     "output_type": "stream",
     "text": [
      "give patient 500 mg\n"
     ]
    }
   ],
   "source": [
    "weight = 12\n",
    "if weight < 20:\n",
    "    print(\"give patient 500 mg\")\n",
    "elif weight < 40:\n",
    "    print(\"give patient 750 mg\")\n",
    "else:\n",
    "    print(\"give patient 1000 mg\")"
   ]
  },
  {
   "cell_type": "markdown",
   "id": "2868c089",
   "metadata": {},
   "source": [
    "# Nested if statements"
   ]
  },
  {
   "cell_type": "code",
   "execution_count": 5,
   "id": "bc1b6ae8",
   "metadata": {},
   "outputs": [
    {
     "name": "stdout",
     "output_type": "stream",
     "text": [
      "25 is divisible by 5\n",
      "25 is odd\n"
     ]
    }
   ],
   "source": [
    "number = 25\n",
    "if number % 5 == 0:\n",
    "    print(f\"{number} is divisible by 5\")\n",
    "    if number % 2 == 0:\n",
    "        print(f\"{number} is even\")\n",
    "    else: \n",
    "        print(f\"{number} is odd\")\n"
   ]
  },
  {
   "cell_type": "markdown",
   "id": "78d8e6a7",
   "metadata": {},
   "source": [
    "# One line if-statement"
   ]
  },
  {
   "cell_type": "code",
   "execution_count": 11,
   "id": "5a7348a6",
   "metadata": {},
   "outputs": [
    {
     "name": "stdout",
     "output_type": "stream",
     "text": [
      "Indira containts the letter 'o'\n"
     ]
    }
   ],
   "source": [
    "name = \"Indira\"\n",
    "gender = \"female\"\n",
    "age = 27\n",
    "\n",
    "if \"a\" in name.lower(): print(f\"{name} containts the letter 'o'\")"
   ]
  },
  {
   "cell_type": "code",
   "execution_count": 7,
   "id": "b12c68c9",
   "metadata": {},
   "outputs": [
    {
     "name": "stdout",
     "output_type": "stream",
     "text": [
      "Indira containts the letter 'a'\n"
     ]
    }
   ],
   "source": [
    "name = \"Indira\"\n",
    "gender =\"female\"\n",
    "age = 27\n",
    "\n",
    "if \"a\" in name.lower(): print(f\"{name} containts the letter 'a'\")\n",
    "\n"
   ]
  },
  {
   "cell_type": "code",
   "execution_count": null,
   "id": "44f6b446",
   "metadata": {},
   "outputs": [
    {
     "name": "stdout",
     "output_type": "stream",
     "text": [
      "Hi Ms Indira\n"
     ]
    }
   ],
   "source": [
    "# one line if-else \n",
    "print(f\"Hi Mr {name}\") if gender == \"male\" else print (f\"Hi Ms {name}\")"
   ]
  },
  {
   "cell_type": "code",
   "execution_count": 8,
   "id": "222071f9",
   "metadata": {},
   "outputs": [
    {
     "data": {
      "text/plain": [
       "True"
      ]
     },
     "execution_count": 8,
     "metadata": {},
     "output_type": "execute_result"
    }
   ],
   "source": [
    "age = 5\n",
    "# one line if-else\n",
    "is_child = True if age < 18 else False\n",
    "is_child \n"
   ]
  }
 ],
 "metadata": {
  "kernelspec": {
   "display_name": "STI_DataEngineer25",
   "language": "python",
   "name": "python3"
  },
  "language_info": {
   "codemirror_mode": {
    "name": "ipython",
    "version": 3
   },
   "file_extension": ".py",
   "mimetype": "text/x-python",
   "name": "python",
   "nbconvert_exporter": "python",
   "pygments_lexer": "ipython3",
   "version": "3.12.8"
  }
 },
 "nbformat": 4,
 "nbformat_minor": 5
}
