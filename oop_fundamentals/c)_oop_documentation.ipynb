{
 "cells": [
  {
   "cell_type": "markdown",
   "id": "9fd90ee2",
   "metadata": {},
   "source": [
    "# OOP documentation\n"
   ]
  },
  {
   "cell_type": "code",
   "execution_count": 12,
   "id": "76621376",
   "metadata": {},
   "outputs": [
    {
     "name": "stdout",
     "output_type": "stream",
     "text": [
      "Help on class Student in module __main__:\n",
      "\n",
      "class Student(builtins.object)\n",
      " |  Student Class for representing students with name, age and active\n",
      " |\n",
      " |  Data descriptors defined here:\n",
      " |\n",
      " |  __dict__\n",
      " |      dictionary for instance variables\n",
      " |\n",
      " |  __weakref__\n",
      " |      list of weak references to the object\n",
      "\n"
     ]
    }
   ],
   "source": [
    "class Student:\n",
    "    \"\"\"Student Class for representing students with name, age and active\"\"\"\n",
    "\n",
    "help(Student)\n"
   ]
  },
  {
   "cell_type": "code",
   "execution_count": 13,
   "id": "fd28a8e4",
   "metadata": {},
   "outputs": [],
   "source": [
    "class Student:\n",
    "    \"\"\"Student class for representing students with the name, age and active\"\"\" # docstring\n",
    "\n",
    "    def __init__(self, name: str, age: int | float , active: bool) -> None: # type hinting\n",
    "        self.name = name\n",
    "        self.age = age\n",
    "        self.active = active\n",
    "\n",
    "    def __repr__(self) -> str:\n",
    "        return f\"Student(name={self.name}, age={self.age}, active={self.active})\"\n",
    "    \n",
    "# see what happens when you hover over the Student class\n",
    "s1 = Student(\"Gore Borf\", 55, True)"
   ]
  },
  {
   "cell_type": "code",
   "execution_count": 14,
   "id": "a7758c67",
   "metadata": {},
   "outputs": [
    {
     "name": "stdout",
     "output_type": "stream",
     "text": [
      "Help on class Student in module __main__:\n",
      "\n",
      "class Student(builtins.object)\n",
      " |  Student(name: str, age: int | float, active: bool) -> None\n",
      " |\n",
      " |  Student class for representing students with the name, age and active\n",
      " |\n",
      " |  Methods defined here:\n",
      " |\n",
      " |  __init__(self, name: str, age: int | float, active: bool) -> None\n",
      " |      Initialize self.  See help(type(self)) for accurate signature.\n",
      " |\n",
      " |  __repr__(self) -> str\n",
      " |      Return repr(self).\n",
      " |\n",
      " |  ----------------------------------------------------------------------\n",
      " |  Data descriptors defined here:\n",
      " |\n",
      " |  __dict__\n",
      " |      dictionary for instance variables\n",
      " |\n",
      " |  __weakref__\n",
      " |      list of weak references to the object\n",
      "\n"
     ]
    }
   ],
   "source": [
    "help(Student)"
   ]
  },
  {
   "cell_type": "code",
   "execution_count": 15,
   "id": "621f3bb7",
   "metadata": {},
   "outputs": [
    {
     "name": "stdout",
     "output_type": "stream",
     "text": [
      "Hello, I'm Kokchun!\n"
     ]
    },
    {
     "data": {
      "text/plain": [
       "34"
      ]
     },
     "execution_count": 15,
     "metadata": {},
     "output_type": "execute_result"
    }
   ],
   "source": [
    "class Person:\n",
    "    \"\"\"\n",
    "    A class representing a person.\n",
    "\n",
    "    Attributes:\n",
    "    - name (str): The name of the person.\n",
    "    - age (int): The age of the person.\n",
    "    - gender (str): The gender of the person ('Male', 'Female', 'Non-binary', etc.).\n",
    "\n",
    "    Methods:\n",
    "    - greet(): Prints a greeting message.\n",
    "    - have_birthday(): Increments the age of the person by one.\n",
    "\n",
    "    Example usage:\n",
    "    >>> person1 = Person(\"Alice\", 25, \"Female\")\n",
    "    >>> person1.greet()\n",
    "    Hello, I'm Alice!\n",
    "    >>> person1.have_birthday()\n",
    "    >>> person1.age\n",
    "    26\n",
    "    \"\"\"\n",
    "    \n",
    "    def __init__(self, name, age, gender):\n",
    "        \"\"\"\n",
    "        Initializes a new instance of the Person class.\n",
    "\n",
    "        Parameters:\n",
    "        - name (str): The name of the person.\n",
    "        - age (int): The age of the person.\n",
    "        - gender (str): The gender of the person.\n",
    "        \"\"\"\n",
    "        self.name = name\n",
    "        self.age = age\n",
    "        self.gender = gender\n",
    "\n",
    "    def greet(self):\n",
    "        \"\"\"Prints a greeting message.\"\"\"\n",
    "        print(f\"Hello, I'm {self.name}!\")\n",
    "\n",
    "    def have_birthday(self):\n",
    "        \"\"\"Increments the age of the person by one.\"\"\"\n",
    "        self.age += 1\n",
    "\n",
    "\n",
    "person = Person(\"Kokchun\", 33, \"M\")\n",
    "person.greet()\n",
    "person.have_birthday()\n",
    "person.age"
   ]
  },
  {
   "cell_type": "code",
   "execution_count": 16,
   "id": "1367b535",
   "metadata": {},
   "outputs": [
    {
     "name": "stdout",
     "output_type": "stream",
     "text": [
      "Help on class Person in module __main__:\n",
      "\n",
      "class Person(builtins.object)\n",
      " |  Person(name, age, gender)\n",
      " |\n",
      " |  A class representing a person.\n",
      " |\n",
      " |  Attributes:\n",
      " |  - name (str): The name of the person.\n",
      " |  - age (int): The age of the person.\n",
      " |  - gender (str): The gender of the person ('Male', 'Female', 'Non-binary', etc.).\n",
      " |\n",
      " |  Methods:\n",
      " |  - greet(): Prints a greeting message.\n",
      " |  - have_birthday(): Increments the age of the person by one.\n",
      " |\n",
      " |  Example usage:\n",
      " |  >>> person1 = Person(\"Alice\", 25, \"Female\")\n",
      " |  >>> person1.greet()\n",
      " |  Hello, I'm Alice!\n",
      " |  >>> person1.have_birthday()\n",
      " |  >>> person1.age\n",
      " |  26\n",
      " |\n",
      " |  Methods defined here:\n",
      " |\n",
      " |  __init__(self, name, age, gender)\n",
      " |      Initializes a new instance of the Person class.\n",
      " |\n",
      " |      Parameters:\n",
      " |      - name (str): The name of the person.\n",
      " |      - age (int): The age of the person.\n",
      " |      - gender (str): The gender of the person.\n",
      " |\n",
      " |  greet(self)\n",
      " |      Prints a greeting message.\n",
      " |\n",
      " |  have_birthday(self)\n",
      " |      Increments the age of the person by one.\n",
      " |\n",
      " |  ----------------------------------------------------------------------\n",
      " |  Data descriptors defined here:\n",
      " |\n",
      " |  __dict__\n",
      " |      dictionary for instance variables\n",
      " |\n",
      " |  __weakref__\n",
      " |      list of weak references to the object\n",
      "\n"
     ]
    }
   ],
   "source": [
    "help(Person)"
   ]
  },
  {
   "cell_type": "code",
   "execution_count": 17,
   "id": "2ca21a11",
   "metadata": {},
   "outputs": [
    {
     "name": "stdout",
     "output_type": "stream",
     "text": [
      "Help on function greet in module __main__:\n",
      "\n",
      "greet(self)\n",
      "    Prints a greeting message.\n",
      "\n"
     ]
    }
   ],
   "source": [
    "help(Person.greet)"
   ]
  }
 ],
 "metadata": {
  "kernelspec": {
   "display_name": "STI_DataEngineer25",
   "language": "python",
   "name": "python3"
  },
  "language_info": {
   "codemirror_mode": {
    "name": "ipython",
    "version": 3
   },
   "file_extension": ".py",
   "mimetype": "text/x-python",
   "name": "python",
   "nbconvert_exporter": "python",
   "pygments_lexer": "ipython3",
   "version": "3.12.8"
  }
 },
 "nbformat": 4,
 "nbformat_minor": 5
}
