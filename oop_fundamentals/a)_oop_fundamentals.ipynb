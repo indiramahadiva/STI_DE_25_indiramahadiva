{
 "cells": [
  {
   "cell_type": "markdown",
   "id": "6da30d62",
   "metadata": {},
   "source": [
    "# OOP Fundamentals"
   ]
  },
  {
   "cell_type": "code",
   "execution_count": 316,
   "id": "e3e4ea7d",
   "metadata": {},
   "outputs": [
    {
     "data": {
      "text/plain": [
       "<__main__.Admission at 0x21610b10980>"
      ]
     },
     "execution_count": 316,
     "metadata": {},
     "output_type": "execute_result"
    }
   ],
   "source": [
    "# Define a class with a name Admission\n",
    "class Admission:\n",
    "    #\"dunder init\" - initializer - note 2 underscores before and after init\n",
    "    # this method will be run when you instantiate a instance from this class\n",
    "    def __init__(self, school, program, name, accept):\n",
    "        # set the attributes to the values from the arguments\n",
    "        self.school = school\n",
    "        self.program = program\n",
    "        self.name = name\n",
    "        self.accept = accept\n",
    "# instantiate the instance person1 that is of type Admission\n",
    "person1 = Admission(\"cool school\", \"AI\", accept = True, name=\"Indira\")\n",
    "person1 # memory address\n",
    "\n",
    "    "
   ]
  },
  {
   "cell_type": "code",
   "execution_count": 317,
   "id": "1cf7b45b",
   "metadata": {},
   "outputs": [
    {
     "data": {
      "text/plain": [
       "('cool school', 'Indira')"
      ]
     },
     "execution_count": 317,
     "metadata": {},
     "output_type": "execute_result"
    }
   ],
   "source": [
    "person1.school, person1.name"
   ]
  },
  {
   "cell_type": "code",
   "execution_count": 318,
   "id": "9f329d39",
   "metadata": {},
   "outputs": [
    {
     "data": {
      "text/plain": [
       "'Bella'"
      ]
     },
     "execution_count": 318,
     "metadata": {},
     "output_type": "execute_result"
    }
   ],
   "source": [
    "person1.name = \"Bella\"\n",
    "person1.name"
   ]
  },
  {
   "cell_type": "code",
   "execution_count": 319,
   "id": "f54412e8",
   "metadata": {},
   "outputs": [
    {
     "data": {
      "text/plain": [
       "('Data engineering', 'AI')"
      ]
     },
     "execution_count": 319,
     "metadata": {},
     "output_type": "execute_result"
    }
   ],
   "source": [
    "person2 = Admission(\"Cooler school\", \"Data engineering\", accept=False, name = \"Gore Bord\")\n",
    "person2.program, person1.program"
   ]
  },
  {
   "cell_type": "markdown",
   "id": "8afc5c8f",
   "metadata": {},
   "source": [
    "## Note on memory\n",
    "\n",
    "By default the \\_\\_repr\\_\\_ of an instace is showing the memory address of where the instance live \n",
    "- Each instance of the class lives in different memory addresses\n",
    "    - They are different objects\n"
   ]
  },
  {
   "cell_type": "code",
   "execution_count": 320,
   "id": "857f52dc",
   "metadata": {},
   "outputs": [
    {
     "data": {
      "text/plain": [
       "False"
      ]
     },
     "execution_count": 320,
     "metadata": {},
     "output_type": "execute_result"
    }
   ],
   "source": [
    "person1 == person2"
   ]
  },
  {
   "cell_type": "code",
   "execution_count": 321,
   "id": "fd46065a",
   "metadata": {},
   "outputs": [
    {
     "data": {
      "text/plain": [
       "('0x21610b10980', '0x21610b0c500')"
      ]
     },
     "execution_count": 321,
     "metadata": {},
     "output_type": "execute_result"
    }
   ],
   "source": [
    "hex(id(person1)), hex(id(person2))"
   ]
  },
  {
   "cell_type": "code",
   "execution_count": 322,
   "id": "6d512b8e",
   "metadata": {},
   "outputs": [
    {
     "data": {
      "text/plain": [
       "Admission(school='Cool school', program='Java', name = 'Victor Freeze', accept = True)"
      ]
     },
     "execution_count": 322,
     "metadata": {},
     "output_type": "execute_result"
    }
   ],
   "source": [
    "class Admission:\n",
    "    def __init__(self, school, program, name, accept):\n",
    "        self.school = school\n",
    "        self.program = program\n",
    "        self.name = name\n",
    "        self.accept = accept\n",
    "    \n",
    "    def __str__(self):\n",
    "        return f\"{self.name} is admitted to {self.program}, accepted: {self.accept}\"\n",
    "\n",
    "    def __repr__(self):\n",
    "        return f\"Admission(school='{self.school}', program='{self.program}', name = '{self.name}', accept = {self.accept})\" \n",
    "\n",
    "student = Admission(\"Cool school\", \"Java\", \"Victor Freeze\", True)\n",
    "student"
   ]
  },
  {
   "cell_type": "code",
   "execution_count": 323,
   "id": "4defc07e",
   "metadata": {},
   "outputs": [
    {
     "name": "stdout",
     "output_type": "stream",
     "text": [
      "Victor Freeze is admitted to Java, accepted: True\n"
     ]
    }
   ],
   "source": [
    "print(student)"
   ]
  },
  {
   "cell_type": "code",
   "execution_count": 324,
   "id": "d40512ba",
   "metadata": {},
   "outputs": [
    {
     "data": {
      "text/plain": [
       "'Victor Freeze is admitted to Java, accepted: True'"
      ]
     },
     "execution_count": 324,
     "metadata": {},
     "output_type": "execute_result"
    }
   ],
   "source": [
    "str(student)"
   ]
  },
  {
   "cell_type": "code",
   "execution_count": 325,
   "id": "9dc5cea7",
   "metadata": {},
   "outputs": [
    {
     "name": "stdout",
     "output_type": "stream",
     "text": [
      "Anna studies data engineer\n"
     ]
    }
   ],
   "source": [
    "# Implement Student Class\n",
    "\n",
    "\n",
    "class Student:\n",
    "    def __init__(self, name, type_of_study, passed, school, age):\n",
    "        self.name = name\n",
    "        self.type_of_study = type_of_study\n",
    "        self.passed = passed\n",
    "        self.school = school\n",
    "        self.age = age\n",
    "    \n",
    "    def study(self):\n",
    "        print(f\"{self.name} studies {self.type_of_study}\")\n",
    "\n",
    "\n",
    "student1 = Student(\"Anna\", \"data engineer\", \"True\", \"STI\", \"23\")\n",
    "student2 = Student(\n",
    "    name=\"Beda\", type_of_study=\"UX\", passed=\"True\", school=\"STI\", age=\"33\"\n",
    ")\n",
    "# student1.name, student1.type_of_study, student1.passed, student1.school,student1.age\n",
    "# student2.name, student2.type_of_study, student2.passed, student2.school,student2.age\n",
    "student1.study()"
   ]
  },
  {
   "cell_type": "markdown",
   "id": "e2b265c7",
   "metadata": {},
   "source": [
    "## \\_\\_repr\\_\\_ - dunder repper method"
   ]
  },
  {
   "cell_type": "code",
   "execution_count": 326,
   "id": "80259edd",
   "metadata": {},
   "outputs": [
    {
     "data": {
      "text/plain": [
       "Student(school='Beda', program='UX', name = 'STI', age = 33, passed = True)"
      ]
     },
     "execution_count": 326,
     "metadata": {},
     "output_type": "execute_result"
    }
   ],
   "source": [
    "class Student:\n",
    "    def __init__(self, name, type_of_study, passed, school, age):\n",
    "        self.name = name\n",
    "        self.type_of_study = type_of_study\n",
    "        self.passed = passed\n",
    "        self.school = school\n",
    "        self.age = age\n",
    "\n",
    "    def study(self):\n",
    "        print(f\"{self.name} studies {self.type_of_study}\")\n",
    "\n",
    "    # student(name = \"Bobbo\", type_of_studies= \"economics\", school = \"cool school\", age = 31, passed= False )\n",
    "    def __repr__(self):\n",
    "        return f\"Student(school='{self.name}', program='{self.type_of_study}', name = '{self.school}', age = {self.age}, passed = {self.passed})\"\n",
    "\n",
    "    \n",
    "\n",
    "student2 = Student(\n",
    "    name=\"Beda\", type_of_study=\"UX\", passed=\"True\", school=\"STI\", age=\"33\"\n",
    ")\n",
    "student2"
   ]
  },
  {
   "cell_type": "code",
   "execution_count": 327,
   "id": "9b3c6bcb",
   "metadata": {},
   "outputs": [
    {
     "name": "stdout",
     "output_type": "stream",
     "text": [
      "Student(school='Beda', program='UX', name = 'STI', age = 33, passed = True)\n"
     ]
    }
   ],
   "source": [
    "#\n",
    "print(student2)"
   ]
  },
  {
   "cell_type": "code",
   "execution_count": 328,
   "id": "928c9cf3",
   "metadata": {},
   "outputs": [
    {
     "name": "stdout",
     "output_type": "stream",
     "text": [
      "Beda is studying UX at  STI\n"
     ]
    }
   ],
   "source": [
    "class Student:\n",
    "    def __init__(self, name, type_of_study, passed, school, age):\n",
    "        self.name = name\n",
    "        self.type_of_study = type_of_study\n",
    "        self.passed = passed\n",
    "        self.school = school\n",
    "        self.age = age\n",
    "\n",
    "    def study(self):\n",
    "        print(f\"{self.name} studies {self.type_of_study}\")\n",
    "\n",
    "    # student(name = \"Bobbo\", type_of_studies= \"economics\", school = \"cool school\", age = 31, passed= False )\n",
    "    def __repr__(self):\n",
    "        return f\"Student(school='{self.name}', program='{self.type_of_study}', name = '{self.school}', age = {self.age}, passed = {self.passed})\"\n",
    "    \n",
    "    def __str__(self):\n",
    "        return f\"{self.name} is studying {self.type_of_study} at  {self.school}\"\n",
    "\n",
    "    \n",
    "\n",
    "student3 = Student(\n",
    "    name=\"Beda\", type_of_study=\"UX\", passed=\"True\", school=\"STI\", age=\"33\"\n",
    ")\n",
    "\n",
    "print(student3)"
   ]
  }
 ],
 "metadata": {
  "kernelspec": {
   "display_name": "STI_DataEngineer25",
   "language": "python",
   "name": "python3"
  },
  "language_info": {
   "codemirror_mode": {
    "name": "ipython",
    "version": 3
   },
   "file_extension": ".py",
   "mimetype": "text/x-python",
   "name": "python",
   "nbconvert_exporter": "python",
   "pygments_lexer": "ipython3",
   "version": "3.12.8"
  }
 },
 "nbformat": 4,
 "nbformat_minor": 5
}
